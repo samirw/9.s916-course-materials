{
 "cells": [
  {
   "cell_type": "code",
   "execution_count": null,
   "id": "0",
   "metadata": {
    "lines_to_next_cell": 0
   },
   "outputs": [],
   "source": [
    "# pyright: reportUnusedExpression=false\n",
    "\n",
    "import sys\n",
    "\n",
    "if \"google.colab\" in sys.modules:\n",
    "    print(\"Installing genjax[genstudio]\")\n",
    "    %pip install --quiet \"genstudio>=2025.2.3,<2026\", \"genjax==0.10.0\""
   ]
  },
  {
   "cell_type": "markdown",
   "id": "1",
   "metadata": {
    "lines_to_next_cell": 0
   },
   "source": [
    "# Localization Tutorial\n",
    "\n",
    "This notebook provides an introduction to probabilistic computation (ProbComp). This term refers to a way of expressing probabilistic constructs in a computational paradigm, made precise by a probabilistic programming language (PPL). The programmer can encode their probabilistic intuition for solving a problem into an algorithm. Back-end language work automates the routine but error-prone derivations.\n",
    "\n",
    "Dependencies are specified in pyproject.toml."
   ]
  },
  {
   "cell_type": "code",
   "execution_count": null,
   "id": "2",
   "metadata": {
    "lines_to_next_cell": 1
   },
   "outputs": [],
   "source": [
    "# Global includes\n",
    "\n",
    "import json\n",
    "import genstudio.plot as Plot\n",
    "import jax\n",
    "import jax.numpy as jnp\n",
    "import genjax\n",
    "from genjax import SelectionBuilder as S\n",
    "from genjax import ChoiceMapBuilder as C\n",
    "from genjax.typing import Array, FloatArray, PRNGKey, IntArray\n",
    "from penzai import pz\n",
    "from typing import TypeVar, Generic, Callable\n",
    "from genstudio.plot import js\n",
    "\n",
    "html = Plot.Hiccup"
   ]
  },
  {
   "cell_type": "markdown",
   "id": "3",
   "metadata": {},
   "source": [
    "## Sensing a robot's location on a map\n",
    "\n",
    "### The map\n",
    "\n",
    "The tutorial will revolve around modeling the activity of a robot within some space.  A large simplifying assumption, which could be lifted with more effort, is that we have been given a *map* of the space, to which the robot will have access.\n",
    "\n",
    "The code below loads such a map, along with other data for later use.  Generally speaking, we keep general code and specific examples in separate cells, as signposted here."
   ]
  },
  {
   "cell_type": "code",
   "execution_count": null,
   "id": "4",
   "metadata": {},
   "outputs": [],
   "source": [
    "# General code here\n",
    "\n",
    "def create_segments(points):\n",
    "    \"\"\"\n",
    "    Given an array of points of shape (N, 2), return an array of\n",
    "    pairs of points. [p_1, p_2, p_3, ...] -> [[p_1, p_2], [p_2, p_3], ...]\n",
    "    where each p_i is [x_i, y_i]\n",
    "    \"\"\"\n",
    "    return jnp.stack([points, jnp.roll(points, shift=-1, axis=0)], axis=1)\n",
    "\n",
    "\n",
    "def make_world(wall_verts, clutters_vec):\n",
    "    \"\"\"\n",
    "    Constructs the world by creating segments for walls and clutters, calculates the bounding box, and prepares the simulation parameters.\n",
    "\n",
    "    Args:\n",
    "    - wall_verts (list of list of float): A list of 2D points representing the vertices of walls.\n",
    "    - clutters_vec (list of list of list of float): A list where each element is a list of 2D points representing the vertices of a clutter.\n",
    "    - start (Pose): The starting pose of the robot.\n",
    "    - controls (list of Control): Control actions for the robot.\n",
    "\n",
    "    Returns:\n",
    "    - tuple: A tuple containing the world configuration, the initial state, and the total number of control steps.\n",
    "    \"\"\"\n",
    "    # Create segments for walls and clutters\n",
    "    walls = create_segments(wall_verts)\n",
    "    clutters = jax.vmap(create_segments)(clutters_vec)\n",
    "\n",
    "    # Combine all points for bounding box calculation\n",
    "    all_points = jnp.vstack(\n",
    "        (jnp.array(wall_verts), jnp.concatenate(clutters_vec))\n",
    "    )\n",
    "    x_min, y_min = jnp.min(all_points, axis=0)\n",
    "    x_max, y_max = jnp.max(all_points, axis=0)\n",
    "\n",
    "    # Calculate bounding box, box size, and center point\n",
    "    bounding_box = jnp.array([[x_min, x_max], [y_min, y_max], [-jnp.pi, +jnp.pi]])\n",
    "    box_size = max(x_max - x_min, y_max - y_min)\n",
    "    center_point = jnp.array([(x_min + x_max) / 2, (y_min + y_max) / 2])\n",
    "\n",
    "    return {\n",
    "            \"walls\": walls,\n",
    "            \"wall_verts\": wall_verts,\n",
    "            \"clutters\": clutters,\n",
    "            \"bounding_box\": bounding_box,\n",
    "            \"box_size\": box_size,\n",
    "            \"center_point\": center_point,\n",
    "        }\n",
    "\n",
    "def load_file(file_name):\n",
    "    # load from cwd or its parent\n",
    "    # (differs depending on dev environment)\n",
    "    try:\n",
    "        with open(file_name) as f:\n",
    "            return json.load(f)\n",
    "    except FileNotFoundError:\n",
    "        with open(f\"../{file_name}\") as f:\n",
    "            return json.load(f)\n",
    "\n",
    "def load_world(file_name):\n",
    "    \"\"\"\n",
    "    Loads the world configuration from a specified file and constructs the world.\n",
    "\n",
    "    Args:\n",
    "    - file_name (str): The name of the file containing the world configuration.\n",
    "\n",
    "    Returns:\n",
    "    - tuple: A tuple containing the world configuration, the initial state, and the total number of control steps.\n",
    "    \"\"\"\n",
    "    # Try both the direct path and one directory up\n",
    "    data = load_file(file_name)\n",
    "\n",
    "    walls_vec = jnp.array(data[\"wall_verts\"])\n",
    "    clutters_vec = jnp.array(data[\"clutter_vert_groups\"])\n",
    "\n",
    "    return make_world(walls_vec, clutters_vec)"
   ]
  },
  {
   "cell_type": "code",
   "execution_count": null,
   "id": "5",
   "metadata": {},
   "outputs": [],
   "source": [
    "# Specific example code here\n",
    "\n",
    "world = load_world(\"world.json\")"
   ]
  },
  {
   "cell_type": "markdown",
   "id": "6",
   "metadata": {},
   "source": [
    "### Plotting\n",
    "\n",
    "It is crucial to picture what we are doing at all times, so we develop plotting code early and often."
   ]
  },
  {
   "cell_type": "code",
   "execution_count": null,
   "id": "7",
   "metadata": {},
   "outputs": [],
   "source": [
    "walls_plot = Plot.new(\n",
    "    Plot.line(\n",
    "        world[\"wall_verts\"],\n",
    "        strokeWidth=2,\n",
    "        stroke=\"#ccc\",\n",
    "    ),\n",
    "    {\"margin\": 0, \"inset\": 50, \"width\": 500, \"axis\": None, \"aspectRatio\": 1},\n",
    "    Plot.domain(world[\"bounding_box\"][0]),\n",
    ")\n",
    "\n",
    "world_plot = (\n",
    "    walls_plot\n",
    "    + Plot.frame(strokeWidth=4, stroke=\"#ddd\")\n",
    "    + Plot.color_legend()\n",
    ")\n",
    "\n",
    "clutters_plot = (\n",
    "    [Plot.line(c[:, 0], fill=Plot.constantly(\"clutters\")) for c in world[\"clutters\"]],\n",
    "    Plot.color_map({\"clutters\": \"magenta\"}),\n",
    ")\n",
    "\n",
    "(\n",
    "    world_plot\n",
    "    + clutters_plot\n",
    "    + {\"title\": \"Given data\"}\n",
    ")"
   ]
  },
  {
   "cell_type": "markdown",
   "id": "8",
   "metadata": {},
   "source": [
    "Following this initial display of the given data, we *suppress the clutters* until much later in the notebook."
   ]
  },
  {
   "cell_type": "code",
   "execution_count": null,
   "id": "9",
   "metadata": {},
   "outputs": [],
   "source": [
    "(\n",
    "    world_plot\n",
    "    + {\"title\": \"Given data\"}\n",
    ")"
   ]
  },
  {
   "cell_type": "markdown",
   "id": "10",
   "metadata": {},
   "source": [
    "### Robot poses\n",
    "\n",
    "We will model the robot's physical state as a *pose* (or mathematically speaking a ray), defined to be a *position* (2D point relative to the map) plus a *heading* (angle from -$\\pi$ to $\\pi$).\n",
    "\n",
    "These will be visualized using arrows whose tip is at the position, and whose direction indicates the heading."
   ]
  },
  {
   "cell_type": "code",
   "execution_count": null,
   "id": "11",
   "metadata": {
    "lines_to_next_cell": 1
   },
   "outputs": [],
   "source": [
    "@pz.pytree_dataclass\n",
    "class Pose(genjax.PythonicPytree):\n",
    "    p: FloatArray\n",
    "    hd: FloatArray\n",
    "\n",
    "    def __repr__(self):\n",
    "        return f\"Pose(p={self.p}, hd={self.hd})\"\n",
    "\n",
    "    def as_array(self):\n",
    "        return jnp.append(self.p, self.hd)\n",
    "\n",
    "    def as_dict(self):\n",
    "        return {\"p\": self.p, \"hd\": self.hd}\n",
    "\n",
    "    def dp(self):\n",
    "        return jnp.array([jnp.cos(self.hd), jnp.sin(self.hd)])\n",
    "\n",
    "    def step_along(self, s: float) -> \"Pose\":\n",
    "        \"\"\"\n",
    "        Moves along the direction of the pose by a scalar and returns a new Pose.\n",
    "\n",
    "        Args:\n",
    "            s (float): The scalar distance to move along the pose's direction.\n",
    "\n",
    "        Returns:\n",
    "            Pose: A new Pose object representing the moved position.\n",
    "        \"\"\"\n",
    "        new_p = self.p + s * self.dp()\n",
    "        return Pose(new_p, self.hd)\n",
    "\n",
    "    def apply_control(self, control):\n",
    "        return Pose(self.p + control.ds * self.dp(), self.hd + control.dhd)\n",
    "\n",
    "    def rotate(self, a: float) -> \"Pose\":\n",
    "        \"\"\"\n",
    "        Rotates the pose by angle 'a' (in radians) and returns a new Pose.\n",
    "\n",
    "        Args:\n",
    "            a (float): The angle in radians to rotate the pose.\n",
    "\n",
    "        Returns:\n",
    "            Pose: A new Pose object representing the rotated pose.\n",
    "        \"\"\"\n",
    "        return Pose(self.p, self.hd + a)"
   ]
  },
  {
   "cell_type": "code",
   "execution_count": null,
   "id": "12",
   "metadata": {
    "lines_to_next_cell": 1
   },
   "outputs": [],
   "source": [
    "def pose_wings(pose, opts={}):\n",
    "    return Plot.line(js(\"\"\"\n",
    "                   const pose = %1;\n",
    "                   let positions = pose.p;\n",
    "                   let angles = pose.hd;\n",
    "                   if (typeof angles === 'number') {{\n",
    "                       positions = [positions];\n",
    "                       angles = [angles];\n",
    "                   }}\n",
    "                   return Array.from(positions).flatMap((p, i) => {{\n",
    "                     const angle = angles[i]\n",
    "                     const wingAngle = Math.PI / 12\n",
    "                     const wingLength = 0.6\n",
    "                     const wing1 = [\n",
    "                       p[0] - wingLength * Math.cos(angle + wingAngle),\n",
    "                       p[1] - wingLength * Math.sin(angle + wingAngle),\n",
    "                       i\n",
    "                     ]\n",
    "                     const center = [p[0], p[1], i]\n",
    "                     const wing2 = [\n",
    "                       p[0] - wingLength * Math.cos(angle - wingAngle),\n",
    "                       p[1] - wingLength * Math.sin(angle - wingAngle),\n",
    "                       i\n",
    "                     ]\n",
    "                     return [wing1, center, wing2]\n",
    "                   }})\n",
    "                   \"\"\", pose, expression=False),\n",
    "                z=\"2\",\n",
    "                **opts)\n",
    "\n",
    "def pose_body(pose, opts={}):\n",
    "    return Plot.dot(js(\"typeof %1.hd === 'number' ? [%1.p] : %1.p\", pose), {\"r\": 4} | opts)\n",
    "\n",
    "def pose_plots(poses, wing_opts={}, body_opts={}, **opts):\n",
    "    \"\"\"\n",
    "    Creates a plot visualization for one or more poses.\n",
    "\n",
    "    Args:\n",
    "        poses_or_stateKey: Either a collection of poses or a state key string\n",
    "        **opts: Optional styling applied to both lines and dots. If 'color' is provided,\n",
    "               it will be used as 'stroke' for lines and 'fill' for dots.\n",
    "\n",
    "    Returns:\n",
    "        A plot object showing the poses with direction indicators\n",
    "    \"\"\"\n",
    "\n",
    "    # Handle color -> stroke/fill conversion\n",
    "    if \"color\" in opts:\n",
    "        wing_opts = wing_opts | {\"stroke\": opts[\"color\"]}\n",
    "        body_opts = body_opts | {\"fill\": opts[\"color\"]}\n",
    "    return (\n",
    "        pose_wings(poses, opts | wing_opts) + pose_body(poses, opts | body_opts)\n",
    "    )\n",
    "\n",
    "\n",
    "def pose_widget(label, initial_pose, **opts):\n",
    "    return (\n",
    "        pose_plots(js(f\"$state.{label}\"),\n",
    "            render=Plot.renderChildEvents({\"onDrag\": js(\n",
    "                f\"\"\"\n",
    "                (e) => {{\n",
    "                    if (e.shiftKey) {{\n",
    "                        const dx = e.x - $state.{label}.p[0];\n",
    "                        const dy = e.y - $state.{label}.p[1];\n",
    "                        const angle = Math.atan2(dy, dx);\n",
    "                        $state.update({{{label}: {{hd: angle, p: $state.{label}.p}}}})\n",
    "                    }} else {{\n",
    "                        $state.update({{{label}: {{hd: $state.{label}.hd, p: [e.x, e.y]}}}})\n",
    "                    }}\n",
    "                }}\n",
    "                \"\"\")}), **opts)\n",
    "        | Plot.initialState({label: initial_pose.as_dict()}, sync=label)\n",
    "    )"
   ]
  },
  {
   "cell_type": "code",
   "execution_count": null,
   "id": "13",
   "metadata": {},
   "outputs": [],
   "source": [
    "some_pose = Pose(jnp.array([6.0, 15.0]), jnp.array(0.0))\n",
    "\n",
    "Plot.html(\"Click-drag on pose to change location.  Shift-click-drag on pose to change heading.\") | (\n",
    "    world_plot\n",
    "    + pose_widget(\"pose\", some_pose, color=\"blue\")\n",
    ") | Plot.html(js(\"`pose = Pose([${$state.pose.p.map((x) => x.toFixed(2))}], ${$state.pose.hd.toFixed(2)})`\"))"
   ]
  },
  {
   "cell_type": "markdown",
   "id": "14",
   "metadata": {},
   "source": [
    "A static picture in case of limited interactivity:"
   ]
  },
  {
   "cell_type": "code",
   "execution_count": null,
   "id": "15",
   "metadata": {},
   "outputs": [],
   "source": [
    "key = jax.random.key(0)\n",
    "\n",
    "def random_pose(k):\n",
    "    p_array = jax.random.uniform(k, shape=(3,),\n",
    "        minval=world[\"bounding_box\"][:, 0],\n",
    "        maxval=world[\"bounding_box\"][:, 1])\n",
    "    return Pose(p_array[0:2], p_array[2])\n",
    "\n",
    "some_poses = jax.vmap(random_pose)(jax.random.split(key, 20))\n",
    "\n",
    "(\n",
    "    world_plot\n",
    "    + pose_plots(some_poses, color=\"green\")\n",
    "    + {\"title\": \"Some poses\"}\n",
    ")"
   ]
  },
  {
   "cell_type": "markdown",
   "id": "16",
   "metadata": {},
   "source": [
    "### Ideal sensors\n",
    "\n",
    "The robot will need to reason about its location on the map, on the basis of LIDAR-like sensor data.\n",
    "\n",
    "An \"ideal\" sensor reports the exact distance cast to a wall.  (It is capped off at a max value in case of error.)"
   ]
  },
  {
   "cell_type": "code",
   "execution_count": null,
   "id": "17",
   "metadata": {},
   "outputs": [],
   "source": [
    "def distance(p, seg, PARALLEL_TOL=1.0e-6):\n",
    "    \"\"\"\n",
    "    Computes the distance from a pose to a segment, considering the pose's direction.\n",
    "\n",
    "    Args:\n",
    "    - p: The Pose object.\n",
    "    - seg: The segment [p1, p2].\n",
    "\n",
    "    Returns:\n",
    "    - float: The distance to the segment. Returns infinity if no valid intersection is found.\n",
    "    \"\"\"\n",
    "    pdp = p.dp()\n",
    "    segdp = seg[1] - seg[0]\n",
    "    # Compute unique s, t such that p.p + s * pdp == seg[0] + t * segdp\n",
    "    pq = p.p - seg[0]\n",
    "    det = pdp[0] * segdp[1] - pdp[1] * segdp[0]\n",
    "    st = jnp.where(\n",
    "        jnp.abs(det) < PARALLEL_TOL,\n",
    "        jnp.array([jnp.nan, jnp.nan]),\n",
    "        jnp.array([\n",
    "            segdp[0] * pq[1] - segdp[1] * pq[0],\n",
    "              pdp[0] * pq[1] -   pdp[1] * pq[0]\n",
    "        ]) / det\n",
    "    )\n",
    "    return jnp.where(\n",
    "        (st[0] >= 0) & (st[1] >= 0) & (st[1] <= 1),\n",
    "        st[0],\n",
    "        jnp.inf\n",
    "    )"
   ]
  },
  {
   "cell_type": "code",
   "execution_count": null,
   "id": "18",
   "metadata": {},
   "outputs": [],
   "source": [
    "sensor_settings = {\n",
    "    \"fov\": 2 * jnp.pi * (2 / 3),\n",
    "    \"num_angles\": 41,\n",
    "    \"box_size\": world[\"box_size\"],\n",
    "}\n",
    "\n",
    "def sensor_distance(pose, walls, box_size):\n",
    "    d = jnp.min(jax.vmap(distance, in_axes=(None, 0))(pose, walls))\n",
    "    # Capping to a finite value avoids issues below.\n",
    "    return jnp.where(jnp.isinf(d), 2 * box_size, d)\n",
    "\n",
    "# This represents a \"fan\" of sensor angles, with given field of vision, centered at angle 0.\n",
    "\n",
    "def make_sensor_angles(sensor_settings):\n",
    "    na = sensor_settings[\"num_angles\"]\n",
    "    return sensor_settings[\"fov\"] * (jnp.arange(na) - ((na - 1) / 2)) / (na - 1)\n",
    "\n",
    "sensor_angles = make_sensor_angles(sensor_settings)\n",
    "\n",
    "def ideal_sensor(pose):\n",
    "    return jax.vmap(\n",
    "        lambda angle: sensor_distance(pose.rotate(angle), world[\"walls\"], sensor_settings[\"box_size\"])\n",
    "    )(sensor_angles)"
   ]
  },
  {
   "cell_type": "code",
   "execution_count": null,
   "id": "19",
   "metadata": {},
   "outputs": [],
   "source": [
    "# Plot sensor data.\n",
    "\n",
    "def plot_sensors(pose, readings, sensor_angles, show_legend=False):\n",
    "    return Plot.Import(\"\"\"export const projections = (pose, readings, angles) => Array.from({length: readings.length}, (_, i) => {\n",
    "                const angle = angles[i] + pose.hd\n",
    "                const reading = readings[i]\n",
    "                return [pose.p[0] + reading * Math.cos(angle), pose.p[1] + reading * Math.sin(angle)]\n",
    "            })\"\"\",\n",
    "            refer=[\"projections\"]) | (\n",
    "        Plot.line(\n",
    "            js(\"projections(%1, %2, %3).flatMap((projection, i) => [%1.p, projection, i])\", pose, readings, sensor_angles),\n",
    "            opacity=0.1,\n",
    "        ) +\n",
    "        Plot.dot(\n",
    "            js(\"projections(%1, %2, %3)\", pose, readings, sensor_angles),\n",
    "            r=2.75,\n",
    "            fill=\"#f80\"\n",
    "        ) +\n",
    "        Plot.cond(show_legend, Plot.colorMap({\"sensor rays\": \"rgb(0,0,0,0.1)\", \"sensor readings\": \"#f80\"}) | Plot.colorLegend())\n",
    "    )"
   ]
  },
  {
   "cell_type": "code",
   "execution_count": null,
   "id": "20",
   "metadata": {},
   "outputs": [],
   "source": [
    "def pose_at(state, label):\n",
    "    pose_dict = getattr(state, label)\n",
    "    return Pose(jnp.array(pose_dict[\"p\"]), jnp.array(pose_dict[\"hd\"]))\n",
    "\n",
    "def update_ideal_sensors(widget, label):\n",
    "    widget.state.update({\n",
    "        (label + \"_readings\"): ideal_sensor(pose_at(widget.state, label))\n",
    "    })\n",
    "\n",
    "\n",
    "some_pose = Pose(jnp.array([6.0, 15.0]), jnp.array(0.0))\n",
    "(\n",
    "    (\n",
    "        world_plot\n",
    "        + plot_sensors(js(\"$state.pose\"), js(\"$state.pose_readings\"), sensor_angles, show_legend=True)\n",
    "        + pose_widget(\"pose\", some_pose, color=\"blue\")\n",
    "    )\n",
    "    | Plot.html(js(\"`pose = Pose([${$state.pose.p.map((x) => x.toFixed(2))}], ${$state.pose.hd.toFixed(2)})`\"))\n",
    "    | Plot.initialState({\n",
    "        \"pose_readings\": ideal_sensor(some_pose)\n",
    "    })\n",
    "    | Plot.onChange({\n",
    "        \"pose\": lambda widget, _: update_ideal_sensors(widget, \"pose\")\n",
    "    })\n",
    ")"
   ]
  },
  {
   "cell_type": "markdown",
   "id": "21",
   "metadata": {},
   "source": [
    "Some pictures in case of limited interactivity:"
   ]
  },
  {
   "cell_type": "code",
   "execution_count": null,
   "id": "22",
   "metadata": {},
   "outputs": [],
   "source": [
    "some_readings = jax.vmap(ideal_sensor)(some_poses)\n",
    "\n",
    "Plot.Frames([\n",
    "    (\n",
    "        world_plot\n",
    "        + plot_sensors(pose, some_readings[i], sensor_angles, show_legend=True)\n",
    "        + pose_plots(pose)\n",
    "    )\n",
    "    for i, pose in enumerate(some_poses)\n",
    "], fps=2)"
   ]
  },
  {
   "cell_type": "markdown",
   "id": "23",
   "metadata": {},
   "source": [
    "## First steps in modeling uncertainty using Gen\n",
    "\n",
    "The robot will need to reason about its possible location on the map using incomplete information—in a pun, it must nagivate the uncertainty.  The `Gen` system facilitates programming the required probabilistic logic.  We will introduce the features of Gen, starting with some simple features now, and bringing in more complex ones later.\n",
    "\n",
    "Each piece of the model is declared as a *generative function* (GF).  The `Gen` library provides the decorator `@genjax.gen` for constructing GFs.  The library moreover offers primitive *distributions* such as \"Bernoulli\" and \"normal\", and the *sampling operator* `@`.  GFs may sample from distributions and, recursively, other GFs using `@`.  A generative function embodies the *joint distribution* over the latent choices indicated by the sampling operations."
   ]
  },
  {
   "cell_type": "markdown",
   "id": "24",
   "metadata": {},
   "source": [
    "### Creating noisy measurements using `propose`\n",
    "\n",
    "We have on hand two kinds of things to model: the robot's pose (and possibly its motion), and its sensor data.  We tackle the sensor model first because it is simpler.\n",
    "\n",
    "Its declarative model in `Gen` starts with the case of just one sensor reading:"
   ]
  },
  {
   "cell_type": "code",
   "execution_count": null,
   "id": "25",
   "metadata": {},
   "outputs": [],
   "source": [
    "model_sensor_noise = 0.1\n",
    "\n",
    "@genjax.gen\n",
    "def sensor_model_one(pose, angle, sensor_noise):\n",
    "    return (\n",
    "        genjax.normal(\n",
    "            sensor_distance(pose.rotate(angle), world[\"walls\"], sensor_settings[\"box_size\"]),\n",
    "            sensor_noise,\n",
    "        )\n",
    "        @ \"distance\"\n",
    "    )"
   ]
  },
  {
   "cell_type": "markdown",
   "id": "26",
   "metadata": {},
   "source": [
    "Under this model, a computed sensor distsance is used as the mean of a Gaussian distribution (representing our uncertainty about it).  *Sampling* from this distribution, using the `@` operator, occurs at the address `\"distance\"`.\n",
    "\n",
    "We draw samples from `sensor_model_one` with `propose` semantics.  Since this operation is stochastic, the method is called with a PRNG key in addition to a tuple of model arguments.  The code is then run, performing the required draws from the sampling operations.  The random draws get organized according to their addresses, forming a *choice map* data structure.  This choice map, a score (to be discussed below), and the return value are all returned by `propose`."
   ]
  },
  {
   "cell_type": "code",
   "execution_count": null,
   "id": "27",
   "metadata": {},
   "outputs": [],
   "source": [
    "key, sub_key = jax.random.split(key)\n",
    "some_pose = Pose(jnp.array([6.0, 15.0]), jnp.array(0.0))\n",
    "cm, score, retval = sensor_model_one.propose(sub_key, (some_pose, sensor_angles[0], model_sensor_noise))\n",
    "retval"
   ]
  },
  {
   "cell_type": "markdown",
   "id": "28",
   "metadata": {},
   "source": [
    "The choice map records the Gaussian draw at address `\"distance\"`, whose value agrees with the return value in this case."
   ]
  },
  {
   "cell_type": "code",
   "execution_count": null,
   "id": "29",
   "metadata": {},
   "outputs": [],
   "source": [
    "cm"
   ]
  },
  {
   "cell_type": "markdown",
   "id": "30",
   "metadata": {},
   "source": [
    "We are interested in the related model whose *single* draw consists of a *vector* of the sensor distances computed across the vector of sensor angles.  This is exactly what we get using the GenJAX `vmap` combinator on GFs."
   ]
  },
  {
   "cell_type": "code",
   "execution_count": null,
   "id": "31",
   "metadata": {},
   "outputs": [],
   "source": [
    "sensor_model = sensor_model_one.vmap(in_axes=(None, 0, None))"
   ]
  },
  {
   "cell_type": "code",
   "execution_count": null,
   "id": "32",
   "metadata": {},
   "outputs": [],
   "source": [
    "key, sub_key = jax.random.split(key)\n",
    "some_pose = Pose(jnp.array([6.0, 15.0]), jnp.array(0.0))\n",
    "cm, score, retval = sensor_model.propose(sub_key, (some_pose, sensor_angles, model_sensor_noise))\n",
    "retval"
   ]
  },
  {
   "cell_type": "markdown",
   "id": "33",
   "metadata": {},
   "source": [
    "Now for choice map:"
   ]
  },
  {
   "cell_type": "code",
   "execution_count": null,
   "id": "34",
   "metadata": {},
   "outputs": [],
   "source": [
    "cm"
   ]
  },
  {
   "cell_type": "markdown",
   "id": "35",
   "metadata": {},
   "source": [
    "We see the address `\"distance\"` now associated with the array of Gaussian draws.\n",
    "\n",
    "With a little wrapping, one gets a function of the same type as `ideal_sensor`, ignoring the PRNG key."
   ]
  },
  {
   "cell_type": "code",
   "execution_count": null,
   "id": "36",
   "metadata": {},
   "outputs": [],
   "source": [
    "def noisy_sensor(key, pose, sensor_noise):\n",
    "    return sensor_model.propose(key, (pose, sensor_angles, sensor_noise))[2]"
   ]
  },
  {
   "cell_type": "code",
   "execution_count": null,
   "id": "37",
   "metadata": {},
   "outputs": [],
   "source": [
    "def noise_slider(key, label, init):\n",
    "    return Plot.Slider(\n",
    "        key=key,\n",
    "        label=label,\n",
    "        showValue=True,\n",
    "        range=[0.01, 5.0],\n",
    "        step=0.01,\n",
    "    ) | Plot.initialState({key: init}, sync={key})\n",
    "\n",
    "def update_noisy_sensors(widget, pose_key, slider_key):\n",
    "    k1, k2 = jax.random.split(jax.random.wrap_key_data(widget.state.k))\n",
    "    readings = noisy_sensor(k1, pose_at(widget.state, pose_key), float(getattr(widget.state, slider_key)))\n",
    "    widget.state.update({\n",
    "        \"k\": jax.random.key_data(k2),\n",
    "        (pose_key + \"_readings\"): readings\n",
    "    })\n",
    "    return readings"
   ]
  },
  {
   "cell_type": "code",
   "execution_count": null,
   "id": "38",
   "metadata": {},
   "outputs": [],
   "source": [
    "def on_slider_change(widget, _):\n",
    "    update_noisy_sensors(widget, \"pose\", \"noise_slider\")\n",
    "\n",
    "key, k1, k2 = jax.random.split(key, 3)\n",
    "some_pose = Pose(jnp.array([6.0, 15.0]), jnp.array(0.0))\n",
    "(\n",
    "    (\n",
    "        world_plot\n",
    "        + plot_sensors(js(\"$state.pose\"), js(\"$state.pose_readings\"), sensor_angles)\n",
    "        + pose_widget(\"pose\", some_pose, color=\"blue\")\n",
    "    )\n",
    "    | noise_slider(\"noise_slider\", \"Sensor noise =\", model_sensor_noise)\n",
    "    | Plot.html(js(\"`pose = Pose([${$state.pose.p.map((x) => x.toFixed(2))}], ${$state.pose.hd.toFixed(2)})`\"))\n",
    "    | Plot.initialState({\n",
    "        \"k\": jax.random.key_data(k1),\n",
    "        \"pose_readings\": noisy_sensor(k2, some_pose, model_sensor_noise)\n",
    "    }, sync={\"k\"})\n",
    "    | Plot.onChange({\"pose\": on_slider_change, \"noise_slider\": on_slider_change})\n",
    ")"
   ]
  },
  {
   "cell_type": "markdown",
   "id": "39",
   "metadata": {},
   "source": [
    "### Weighing data with `assess`\n",
    "\n",
    "The mathematical picture is as follows.  Given the parameters of a pose $z$, walls $w$, and settings $\\nu$, one gets a distribution $\\text{sensor}(z, w, \\nu)$ over certain choice maps.  The supporting choice maps are identified with vectors $o = o^{(1:J)} = (o^{(1)}, o^{(2)}, \\ldots, o^{(J)})$ of observations, where $J := \\nu_\\text{num\\_angles}$, each $o^{(j)}$ independently following a certain normal distribution (depending, notably, on a distance to a wall).  Thus the density of $o$ factors into a product of the form\n",
    "$$\n",
    "P_\\text{sensor}(o) = \\prod\\nolimits_{j=1}^J P_\\text{normal}(o^{(j)})\n",
    "$$\n",
    "where we begin a habit of omitting the parameters to distributions that are implied by the code.\n",
    "\n",
    "As `propose` draws a sample, it simultaneously computes this density or *score* and returns its logarithm:"
   ]
  },
  {
   "cell_type": "code",
   "execution_count": null,
   "id": "40",
   "metadata": {},
   "outputs": [],
   "source": [
    "jnp.exp(score)"
   ]
  },
  {
   "cell_type": "markdown",
   "id": "41",
   "metadata": {},
   "source": [
    "There are many scenarios where one has on hand a full set of data, perhaps via observation, and seeks their score according to the model.  One could write a program by hand to do this—but one would simply recapitulate the code for `noisy_sensor`, where the sampling operations would be replaced with density computations, and their log product would be returned.\n",
    "\n",
    "The construction of a log density function is automated by the `assess` semantics for generative functions.  This method is passed a choice map and a tuple of arguments, and it returns the log score plus the return value."
   ]
  },
  {
   "cell_type": "code",
   "execution_count": null,
   "id": "42",
   "metadata": {
    "lines_to_next_cell": 2
   },
   "outputs": [],
   "source": [
    "some_pose = Pose(jnp.array([6.0, 15.0]), jnp.array(0.0))\n",
    "score, retval = sensor_model.assess(cm, (some_pose, sensor_angles, model_sensor_noise))\n",
    "jnp.exp(score)"
   ]
  },
  {
   "cell_type": "markdown",
   "id": "43",
   "metadata": {},
   "source": [
    "## First steps in probabilistic reasoning\n",
    "\n",
    "We consider the following problem: given an batch of sensor data (plus the map), decide the likely robot pose where it was recorded.\n",
    "\n",
    "### Gaining an intuition\n",
    "\n",
    "Theory point: likelihood versus posterior —> \"theory exercises\".  Maybe just name here our uniform prior, and point towards later in the nb where we use non-uniform priors.  Encourage students to adapt this part of the notebook to nonuniform priors."
   ]
  },
  {
   "cell_type": "markdown",
   "id": "44",
   "metadata": {},
   "source": [
    "In the following widget, a hidden \"target\" pose has been chosen, and the goal is to reason about where it might be.  You are given aids in reasoning:\n",
    "* Sensor readings have been taken at the target pose, and attached to a manipulable \"guess\" pose that you may move around and try to fit.\n",
    "* These readings are plotted on the right, in comparison with the would-be wall distances from the \"guess\" pose.\n",
    "* The difference beetween these two data sets goes into the computation of the *likelihood* of the guess, which is also shown."
   ]
  },
  {
   "cell_type": "code",
   "execution_count": null,
   "id": "45",
   "metadata": {},
   "outputs": [],
   "source": [
    "key, k1, k2, k3 = jax.random.split(key, 4)\n",
    "\n",
    "guess_pose = Pose(jnp.array([2.0, 16.0]), jnp.array(0.0))\n",
    "target_pose = Pose(jnp.array([15.0, 4.0]), jnp.array(-1.6))\n",
    "\n",
    "def likelihood_function(cm, pose, sensor_noise):\n",
    "    return sensor_model.assess(cm, (pose, sensor_angles, sensor_noise))[0]\n",
    "\n",
    "def on_guess_pose_chage(widget, _):\n",
    "    update_ideal_sensors(widget, \"guess\")\n",
    "    widget.state.update({\"likelihood\":\n",
    "        likelihood_function(\n",
    "            C[\"distance\"].set(widget.state.target_readings),\n",
    "            pose_at(widget.state, \"guess\"),\n",
    "            model_sensor_noise\n",
    "        )\n",
    "    })\n",
    "\n",
    "def on_target_pose_chage(widget, _):\n",
    "    update_noisy_sensors(widget, \"target\", \"noise_slider\")\n",
    "    widget.state.update({\"likelihood\":\n",
    "        likelihood_function(\n",
    "            C[\"distance\"].set(widget.state.target_readings),\n",
    "            pose_at(widget.state, \"guess\"),\n",
    "            model_sensor_noise\n",
    "        )\n",
    "    })\n",
    "\n",
    "(\n",
    "    Plot.Grid(\n",
    "        (\n",
    "            world_plot\n",
    "            + plot_sensors(js(\"$state.guess\"), js(\"$state.target_readings\"), sensor_angles)\n",
    "            + pose_widget(\"guess\", guess_pose, color=\"blue\")\n",
    "            + Plot.cond(js(\"$state.show_target_pose\"),\n",
    "                pose_widget(\"target\", target_pose, color=\"gold\"))\n",
    "        ),\n",
    "        (\n",
    "            Plot.rectY(\n",
    "                Plot.js(\"\"\"\n",
    "                const data = [];\n",
    "                for (let i = 0; i < $state.guess_readings.length; i++) {\n",
    "                    data.push({\n",
    "                        \"sensor index\": i - 0.15,\n",
    "                        \"distance\": $state.guess_readings[i],\n",
    "                        \"group\": \"wall distances from guess pose\"\n",
    "                    });\n",
    "                    data.push({\n",
    "                        \"sensor index\": i + 0.15,\n",
    "                        \"distance\": $state.target_readings[i],\n",
    "                        \"group\": \"sensor readings from hidden pose\"\n",
    "                    });\n",
    "                }\n",
    "                return data;\n",
    "                \"\"\", expression=False),\n",
    "                x=\"sensor index\",\n",
    "                y=\"distance\",\n",
    "                fill=\"group\",\n",
    "                interval=0.5\n",
    "            )\n",
    "            + Plot.domainY([0, 15])\n",
    "            + {\"height\": 300, \"marginBottom\": 50}\n",
    "            + Plot.color_map({\n",
    "                \"wall distances from guess pose\": \"blue\",\n",
    "                \"sensor readings from hidden pose\": \"gold\"\n",
    "            })\n",
    "            + Plot.colorLegend()\n",
    "            + {\"legend\": {\"anchor\": \"middle\", \"x\": 0.5, \"y\": 1.2}}\n",
    "            | [\n",
    "                \"div\",\n",
    "                {\"class\": \"text-lg mt-2 text-center w-full\"},\n",
    "                Plot.js(\"'log likelihood (greater is better): ' + $state.likelihood.toFixed(2)\")\n",
    "            ]\n",
    "        ),\n",
    "        cols=2\n",
    "    )\n",
    "    | noise_slider(\"noise_slider\", \"Sensor noise =\", model_sensor_noise)\n",
    "    | (\n",
    "        Plot.html([\n",
    "            \"label\",\n",
    "            {\"class\": \"flex items-center gap-2 cursor-pointer\"},\n",
    "            [\n",
    "                \"input\",\n",
    "                {\n",
    "                    \"type\": \"checkbox\",\n",
    "                    \"checked\": js(\"$state.show_target_pose\"),\n",
    "                    \"onChange\": js(\"(e) => $state.show_target_pose = e.target.checked\")\n",
    "                }\n",
    "            ],\n",
    "            \"show target pose\"\n",
    "        ])\n",
    "        & Plot.html(js(\"`guess = Pose([${$state.guess.p.map((x) => x.toFixed(2))}], ${$state.guess.hd.toFixed(2)})`\"))\n",
    "        & Plot.html(js(\"`target = Pose([${$state.target.p.map((x) => x.toFixed(2))}], ${$state.target.hd.toFixed(2)})`\"))\n",
    "    )\n",
    "    | Plot.initialState(\n",
    "        {\n",
    "            \"k\": jax.random.key_data(k1),\n",
    "            \"guess_readings\": ideal_sensor(guess_pose),\n",
    "            \"target_readings\": (initial_target_readings := noisy_sensor(k3, target_pose, model_sensor_noise)),\n",
    "            \"likelihood\": likelihood_function(C[\"distance\"].set(initial_target_readings), guess_pose, model_sensor_noise),\n",
    "            \"show_target_pose\": False,\n",
    "        }, sync={\"k\", \"target_readings\"})\n",
    "    | Plot.onChange({\n",
    "            \"guess\": on_guess_pose_chage,\n",
    "            \"target\": on_target_pose_chage,\n",
    "            \"noise_slider\": on_target_pose_chage,\n",
    "    })\n",
    ")"
   ]
  },
  {
   "cell_type": "markdown",
   "id": "46",
   "metadata": {},
   "source": [
    "### Likelihood, prior, and posterior\n",
    "\n",
    "A common way to proceed is to consider the likelihood function—the probability density of the fixed observations, with varying pose parameter—as the basis of our reasoning.  Reasoning about the likelihood can be recovered as a special case of reasoning about the *posterior distribution* over the pose parameter, where the *prior* distribution was uniform with respect to some reference volume over poses.\n",
    "\n",
    "We introduce here three choices of prior, to illustrate how inference depends on it."
   ]
  },
  {
   "cell_type": "code",
   "execution_count": null,
   "id": "47",
   "metadata": {},
   "outputs": [],
   "source": [
    "# Uniform prior over the whole map.\n",
    "# (This is just a recapitulation of `random_pose` from above.)\n",
    "\n",
    "@genjax.gen\n",
    "def uniform_pose(mins, maxes):\n",
    "    p_array = genjax.uniform(mins, maxes) @ \"p_array\"\n",
    "    return Pose(p_array[0:2], p_array[2])\n",
    "\n",
    "whole_map_prior = uniform_pose.partial_apply(\n",
    "    world[\"bounding_box\"][:, 0],\n",
    "    world[\"bounding_box\"][:, 1]\n",
    ")\n",
    "\n",
    "def whole_map_cm_builder(pose):\n",
    "    return C[\"p_array\"].set(pose.as_array())"
   ]
  },
  {
   "cell_type": "code",
   "execution_count": null,
   "id": "48",
   "metadata": {},
   "outputs": [],
   "source": [
    "key, sub_key = jax.random.split(key)\n",
    "some_poses = jax.vmap(lambda k: whole_map_prior.simulate(k, ()))(jax.random.split(sub_key, 100)).get_retval()\n",
    "\n",
    "(\n",
    "    world_plot\n",
    "    + pose_plots(some_poses, color=\"green\")\n",
    "    + {\"title\": \"Some poses\"}\n",
    ")"
   ]
  },
  {
   "cell_type": "code",
   "execution_count": null,
   "id": "49",
   "metadata": {},
   "outputs": [],
   "source": [
    "# Even mixture of uniform priors over two rooms.\n",
    "\n",
    "room_mixture = jnp.ones(2) / 2\n",
    "room1 = jnp.array([[12.83, 15.81], [11.19, 15.26], [-jnp.pi, +jnp.pi]])\n",
    "room2 = jnp.array([[15.73, 18.90], [ 5.79,  9.57], [-jnp.pi, +jnp.pi]])\n",
    "\n",
    "two_room_prior = genjax.mix(\n",
    "    uniform_pose.partial_apply(room1[:, 0], room1[:, 1]),\n",
    "    uniform_pose.partial_apply(room2[:, 0], room2[:, 1])\n",
    ").partial_apply(jnp.log(room_mixture), (), ())\n",
    "\n",
    "def two_room_cm_builder(pose):\n",
    "    return (\n",
    "        C[\"mixture_component\"].set(jnp.array(pose.p[1] < 10, int))\n",
    "        | C[\"component_sample\", \"p_array\"].set(pose.as_array())\n",
    "    )"
   ]
  },
  {
   "cell_type": "code",
   "execution_count": null,
   "id": "50",
   "metadata": {},
   "outputs": [],
   "source": [
    "key, sub_key = jax.random.split(key)\n",
    "some_poses = jax.vmap(lambda k: two_room_prior.simulate(k, ()))(jax.random.split(sub_key, 100)).get_retval()\n",
    "\n",
    "(\n",
    "    world_plot\n",
    "    + pose_plots(some_poses, color=\"green\")\n",
    "    + {\"title\": \"Some poses\"}\n",
    ")"
   ]
  },
  {
   "cell_type": "code",
   "execution_count": null,
   "id": "51",
   "metadata": {},
   "outputs": [],
   "source": [
    "# Prior localized around a single pose\n",
    "pose_for_localized_prior = Pose(jnp.array([2.0, 16.0]), jnp.array(0.0))\n",
    "spread_of_localized_prior = (0.1, 0.75)\n",
    "@genjax.gen\n",
    "def localized_prior():\n",
    "    p = (\n",
    "        genjax.mv_normal_diag(\n",
    "            pose_for_localized_prior.p,\n",
    "            spread_of_localized_prior[0] * jnp.ones(2)\n",
    "        )\n",
    "        @ \"p\"\n",
    "    )\n",
    "    hd = (\n",
    "        genjax.normal(\n",
    "            pose_for_localized_prior.hd,\n",
    "            spread_of_localized_prior[1]\n",
    "        )\n",
    "        @ \"hd\"\n",
    "    )\n",
    "    return Pose(p, hd)\n",
    "\n",
    "def localized_cm_builder(pose):\n",
    "    return C[\"p\"].set(pose.p) | C[\"hd\"].set(pose.hd)"
   ]
  },
  {
   "cell_type": "code",
   "execution_count": null,
   "id": "52",
   "metadata": {},
   "outputs": [],
   "source": [
    "key, sub_key = jax.random.split(key)\n",
    "some_poses = jax.vmap(lambda k: localized_prior.simulate(k, ()))(jax.random.split(sub_key, 100)).get_retval()\n",
    "\n",
    "(\n",
    "    world_plot\n",
    "    + pose_plots(some_poses, color=\"green\")\n",
    "    + {\"title\": \"Some poses\"}\n",
    ")"
   ]
  },
  {
   "cell_type": "markdown",
   "id": "53",
   "metadata": {},
   "source": [
    "We also introduce joint models, whose densities serve as unnormalized posterior densities."
   ]
  },
  {
   "cell_type": "code",
   "execution_count": null,
   "id": "54",
   "metadata": {},
   "outputs": [],
   "source": [
    "model_dispatch = {\n",
    "    \"whole_map\": (whole_map_prior, whole_map_cm_builder),\n",
    "    \"two_room\": (two_room_prior, two_room_cm_builder),\n",
    "    \"localized\": (localized_prior, localized_cm_builder),\n",
    "}\n",
    "\n",
    "def make_posterior_density_fn(prior_label, readings, model_noise):\n",
    "    prior, cm_builder = model_dispatch[prior_label]\n",
    "    @genjax.gen\n",
    "    def joint_model():\n",
    "        pose = prior() @ \"pose\"\n",
    "        sensor = sensor_model(pose, sensor_angles, model_noise) @ \"sensor\"\n",
    "    return jax.jit(\n",
    "        lambda pose:\n",
    "            joint_model.assess(\n",
    "                C[\"pose\"].set(cm_builder(pose)) | C[\"sensor\", \"distance\"].set(readings),\n",
    "                ()\n",
    "            )[0]\n",
    "    )"
   ]
  },
  {
   "cell_type": "markdown",
   "id": "55",
   "metadata": {},
   "source": [
    "### Visualization setup\n",
    "\n",
    "The next few widgets all operate on the same principle.  A manipulable \"camera\" pose is shown.  Hitting the button makes the following happen:\n",
    "* The \"target\" pose gets fixed to the camera pose and a batch of sensor readings is sampled at the target.  (The first slider controls the noise in the taking of these readings.)\n",
    "* Then some computation (optimization or inference) is performed on these sensor readings and everything gets displayed: the target, its sensor readings, and the computation results.  (The second slider controls the sensor noise assumed by the model in this computation.)"
   ]
  },
  {
   "cell_type": "code",
   "execution_count": null,
   "id": "56",
   "metadata": {},
   "outputs": [],
   "source": [
    "def on_camera_button(button_handler):\n",
    "    def handler(widget, _):\n",
    "        k1, k2 = jax.random.split(jax.random.wrap_key_data(widget.state.k))\n",
    "        widget.state.update({\n",
    "            \"k\": jax.random.key_data(k1),\n",
    "            \"target\": widget.state.camera,\n",
    "        })\n",
    "        readings = update_noisy_sensors(widget, \"target\", \"world_noise\")\n",
    "        button_handler(widget, k2, readings)\n",
    "        widget.state.update({\n",
    "            \"target_exists\": True,\n",
    "        })\n",
    "    return handler\n",
    "\n",
    "def camera_widget(\n",
    "        k, camera_pose,\n",
    "        button_label, button_handler,\n",
    "        result_plots=Plot.dot([jnp.sum(world[\"bounding_box\"], axis=1)[0:2]], opacity=1),\n",
    "        bottom_elements=(),\n",
    "        initial_state={},\n",
    "        sync=set()):\n",
    "    return (\n",
    "        (\n",
    "            world_plot\n",
    "            + Plot.cond(js(\"$state.target_exists\"),\n",
    "                result_plots\n",
    "                + plot_sensors(js(\"$state.target\"), js(\"$state.target_readings\"), sensor_angles)\n",
    "                + pose_plots(js(\"$state.target\"), color=\"red\")\n",
    "            )\n",
    "            + pose_widget(\"camera\", camera_pose, color=\"blue\")\n",
    "        )\n",
    "        | noise_slider(\"world_noise\", \"World/data noise = \", model_sensor_noise)\n",
    "        | Plot.html([\n",
    "            \"p\",\n",
    "            \"Prior:\",\n",
    "            [\n",
    "                \"select\",\n",
    "                {\"onChange\": js(\"(e) => $state.prior = e.target.value\")},\n",
    "                [\"option\", {\"value\": \"whole_map\", \"selected\": \"True\"}, \"whole map\"],\n",
    "                [\"option\", {\"value\": \"two_room\"}, \"two room\"],\n",
    "                [\"option\", {\"value\": \"localized\"}, \"localized\"],\n",
    "            ]\n",
    "        ])\n",
    "        | noise_slider(\"model_noise\", \"Model/inference noise = \", model_sensor_noise)\n",
    "        | (\n",
    "            Plot.html([\n",
    "                \"button\",\n",
    "                {\n",
    "                    \"class\": \"w-24 px-4 py-2 bg-blue-500 text-white rounded hover:bg-blue-600 active:bg-blue-700\",\n",
    "                    \"onClick\": on_camera_button(button_handler)\n",
    "                },\n",
    "                button_label\n",
    "            ])\n",
    "            & Plot.html(\n",
    "                Plot.js(\"\"\"`camera = Pose([${$state.camera.p.map((x) => x.toFixed(2))}], ${$state.camera.hd.toFixed(2)})`\"\"\")\n",
    "            )\n",
    "            & Plot.html(\n",
    "                Plot.js(\"\"\"$state.target_exists ?\n",
    "                                `target = Pose([${$state.target.p.map((x) => x.toFixed(2))}], ${$state.target.hd.toFixed(2)})` : ''\"\"\")\n",
    "            )\n",
    "            & bottom_elements\n",
    "        )\n",
    "        | Plot.initialState(\n",
    "            {\n",
    "                \"k\": jax.random.key_data(k),\n",
    "                \"target_exists\": False,\n",
    "                \"target\": {\"p\": None, \"hd\": None},\n",
    "                \"target_readings\": [],\n",
    "                \"prior\": \"whole_map\"\n",
    "            } | initial_state,\n",
    "            sync=({\"k\", \"target\", \"camera_readings\", \"prior\"} | sync))\n",
    "    )"
   ]
  },
  {
   "cell_type": "markdown",
   "id": "57",
   "metadata": {},
   "source": [
    "### Doing optimization\n",
    "\n",
    "A common response is to optimize the posterior density.  The field of optimization is vast, but it is not the path for us here, so we just take a quick look.\n",
    "\n",
    "The idea here is just to search for the good poses by brute force, ranging over a suitable discretization grid of the map.  So in this widget, the button fires a sweep over a grid of possible poses, computing the posterior density of each.  The top `N_keep` are kept, and shown with opacity proportional to their position in that sublist.  Moreover, the best fit is shown in purple."
   ]
  },
  {
   "cell_type": "code",
   "execution_count": null,
   "id": "58",
   "metadata": {},
   "outputs": [],
   "source": [
    "def make_grid(bounds, ns):\n",
    "    return [dim.reshape(-1) for dim in jnp.meshgrid(*(jnp.linspace(*bound, num=n) for (bound, n) in zip(bounds, ns)))]\n",
    "\n",
    "def make_poses_grid_array(bounds, ns):\n",
    "    grid_xs, grid_ys, grid_hds = make_grid(bounds, ns)\n",
    "    return jnp.array([grid_xs, grid_ys]).T, grid_hds\n",
    "\n",
    "def make_poses_grid(bounds, ns):\n",
    "    return Pose(*make_poses_grid_array(bounds, ns))"
   ]
  },
  {
   "cell_type": "code",
   "execution_count": null,
   "id": "59",
   "metadata": {},
   "outputs": [],
   "source": [
    "N_grid = jnp.array([50, 50, 20])\n",
    "N_keep = 1000  # keep the top this many out of the total `jnp.prod(N_grid)` of them\n",
    "\n",
    "key, sub_key = jax.random.split(key)\n",
    "\n",
    "camera_pose = Pose(jnp.array([2.0, 16.0]), jnp.array(0.0))\n",
    "\n",
    "def grid_search_handler(widget, k, readings):\n",
    "    model_noise = float(getattr(widget.state, \"model_noise\"))\n",
    "    jitted_posterior = make_posterior_density_fn(widget.state.prior, readings, model_noise)\n",
    "\n",
    "    grid_poses = make_poses_grid(world[\"bounding_box\"], N_grid)\n",
    "    posterior_densities = jax.vmap(jitted_posterior)(grid_poses)\n",
    "    best = jnp.argsort(posterior_densities, descending=True)[0:N_keep]\n",
    "    widget.state.update({\n",
    "        \"grid_poses\": grid_poses[best].as_dict(),\n",
    "        \"best\": grid_poses[best[0]].as_dict()\n",
    "    })\n",
    "\n",
    "camera_widget(\n",
    "    sub_key,\n",
    "    camera_pose,\n",
    "    \"grid search\",\n",
    "    grid_search_handler,\n",
    "    result_plots=(\n",
    "        pose_plots(js(\"$state.grid_poses\"), color=\"green\", opacity=jnp.arange(1.0, 0.0, -1/N_keep))\n",
    "        + pose_plots(js(\"$state.best\"), color=\"purple\")\n",
    "    ),\n",
    "    bottom_elements=(\n",
    "        Plot.html(\n",
    "            # For some reason `toFixed` very stubbonrly malfunctions in the following line:\n",
    "            Plot.js(\"\"\"$state.target_exists ?\n",
    "                                `best = Pose([${$state.best.p.map((x) => x.toFixed(2))}], ${$state.best.hd.toFixed(2)})` : ''\"\"\")\n",
    "        )\n",
    "    ),\n",
    "    initial_state={\n",
    "        \"grid_poses\": {\"p\": [], \"hd\": []},\n",
    "        \"best\": {\"p\": None, \"hd\": None},\n",
    "    },\n",
    ")"
   ]
  },
  {
   "cell_type": "markdown",
   "id": "60",
   "metadata": {},
   "source": [
    "Note how the purple pose is a long way from summarizing the ambiguity in the solution set."
   ]
  },
  {
   "cell_type": "markdown",
   "id": "61",
   "metadata": {},
   "source": [
    "### Doing probabilistic inference\n",
    "\n",
    "We show some ways one might approach this problem probabilistically: our answers to \"Where might the robot be?\" will all be given in the form of probability distributions.  Moreover, these distributions will be embodied as generative samplers."
   ]
  },
  {
   "cell_type": "markdown",
   "id": "62",
   "metadata": {},
   "source": [
    "#### Grid approximation sampler\n",
    "\n",
    "Although computing the grid takes work, afterwards accessing its members is cheap.  Instead of only taking the best fit, we can draw members from the grid with probability in proportion to their posterior density.  The result is the following sampler."
   ]
  },
  {
   "cell_type": "code",
   "execution_count": null,
   "id": "63",
   "metadata": {},
   "outputs": [],
   "source": [
    "N_grid = jnp.array([50, 50, 20])\n",
    "N_samples = 100\n",
    "\n",
    "key, sub_key = jax.random.split(key)\n",
    "\n",
    "camera_pose = Pose(jnp.array([15.13, 14.16]), jnp.array(1.5))\n",
    "\n",
    "def grid_approximation_handler(widget, k, readings):\n",
    "    model_noise = float(getattr(widget.state, \"model_noise\"))\n",
    "    jitted_posterior = make_posterior_density_fn(widget.state.prior, readings, model_noise)\n",
    "\n",
    "    grid_poses = make_poses_grid(world[\"bounding_box\"], N_grid)\n",
    "    posterior_densities = jax.vmap(jitted_posterior)(grid_poses)\n",
    "    def grid_sample_one(k):\n",
    "        return grid_poses[genjax.categorical.propose(k, (posterior_densities,))[2]]\n",
    "\n",
    "    grid_samples = jax.vmap(grid_sample_one)(jax.random.split(k, N_samples))\n",
    "    widget.state.update({\n",
    "        \"sample_poses\": grid_samples,\n",
    "    })\n",
    "\n",
    "camera_widget(\n",
    "    sub_key,\n",
    "    camera_pose,\n",
    "    \"grid sampler\",\n",
    "    grid_approximation_handler,\n",
    "    result_plots=pose_plots(js(\"$state.sample_poses\"), color=\"green\"),\n",
    "    initial_state={\"sample_poses\": {\"p\": [], \"hd\": []}},\n",
    ")"
   ]
  },
  {
   "cell_type": "markdown",
   "id": "64",
   "metadata": {},
   "source": [
    "Two shortcomings are clear.  One is that a single pose tends to dominate the samples, regardless of whether other poses in the grid seem to be plausible fits.  The other is that one never sees any poses that do not belong to the grid!"
   ]
  },
  {
   "cell_type": "markdown",
   "id": "65",
   "metadata": {},
   "source": [
    "#### Importance resampling\n",
    "\n",
    "What if we need not be systematic—and instead we just try a bunch of points, uniformly over all poses, instead of constrained to a grid?\n",
    "\n",
    "Here we first draw `N` pre-samples, assess them, and pick a single representative one in probability proportional to its posterior density, to obtain one sample.  The samples obtained this way are then more closely distributed to the posterior."
   ]
  },
  {
   "cell_type": "code",
   "execution_count": null,
   "id": "66",
   "metadata": {},
   "outputs": [],
   "source": [
    "N_presamples = 10000\n",
    "N_samples = 50\n",
    "\n",
    "key, sub_key = jax.random.split(key)\n",
    "\n",
    "camera_pose = Pose(jnp.array([15.13, 14.16]), jnp.array(1.5))\n",
    "\n",
    "def importance_resampling_handler(widget, k, readings):\n",
    "    model_noise = float(getattr(widget.state, \"model_noise\"))\n",
    "    jitted_posterior = make_posterior_density_fn(widget.state.prior, readings, model_noise)\n",
    "\n",
    "    def importance_resample_one(k):\n",
    "        k1, k2 = jax.random.split(k)\n",
    "        presamples = jax.vmap(random_pose)(jax.random.split(k1, N_presamples))\n",
    "        posterior_densities = jax.vmap(jitted_posterior)(presamples)\n",
    "        return presamples[genjax.categorical.propose(k2, (posterior_densities,))[2]]\n",
    "\n",
    "    grid_samples = jax.vmap(importance_resample_one)(jax.random.split(k, N_samples))\n",
    "    widget.state.update({\n",
    "        \"sample_poses\": grid_samples,\n",
    "    })\n",
    "\n",
    "camera_widget(\n",
    "    sub_key,\n",
    "    camera_pose,\n",
    "    \"importance resampler\",\n",
    "    importance_resampling_handler,\n",
    "    result_plots=pose_plots(js(\"$state.sample_poses\"), color=\"green\"),\n",
    "    initial_state={\"sample_poses\": {\"p\": [], \"hd\": []}},\n",
    ")"
   ]
  },
  {
   "cell_type": "markdown",
   "id": "67",
   "metadata": {},
   "source": [
    "#### Markov chain Monte Carlo\n",
    "\n",
    "We could also explore the space with a random walk.  Here we guide the particle using the MH rule."
   ]
  },
  {
   "cell_type": "code",
   "execution_count": null,
   "id": "68",
   "metadata": {},
   "outputs": [],
   "source": [
    "N_MH_steps = 100000\n",
    "N_samples = 5\n",
    "\n",
    "key, sub_key = jax.random.split(key)\n",
    "\n",
    "camera_pose = Pose(jnp.array([15.13, 14.16]), jnp.array(1.5))\n",
    "\n",
    "def MCMC_handler(widget, k, readings):\n",
    "    model_noise = float(getattr(widget.state, \"model_noise\"))\n",
    "    jitted_posterior = make_posterior_density_fn(widget.state.prior, readings, model_noise)\n",
    "\n",
    "    def do_MH_step(pose_posterior_density, k):\n",
    "        pose, posterior_density = pose_posterior_density\n",
    "        k1, k2 = jax.random.split(k)\n",
    "        p_hd = pose.as_array()\n",
    "        delta = jnp.array([0.5, 0.5, 0.1])\n",
    "        mins = jnp.maximum(p_hd - delta, world[\"bounding_box\"][:, 0])\n",
    "        maxs = jnp.minimum(p_hd + delta, world[\"bounding_box\"][:, 1])\n",
    "        new_p_hd = jax.random.uniform(k1, shape=(3,), minval=mins, maxval=maxs)\n",
    "        new_pose = Pose(new_p_hd[0:2], new_p_hd[2])\n",
    "        new_posterior = jitted_posterior(new_pose)\n",
    "        accept = (jnp.log(genjax.uniform.propose(k2, ())[2]) <= new_posterior - posterior_density)\n",
    "        return (\n",
    "            jax.tree.map(\n",
    "                lambda x, y: jnp.where(accept, x, y),\n",
    "                (new_pose, posterior_density),\n",
    "                (pose, posterior_density)\n",
    "            ),\n",
    "            None\n",
    "        )\n",
    "    def sample_MH_one(k):\n",
    "        k1, k2 = jax.random.split(k)\n",
    "        start_pose = random_pose(k1)\n",
    "        start_posterior = jitted_posterior(start_pose)\n",
    "        return jax.lax.scan(do_MH_step, (start_pose, start_posterior), jax.random.split(k2, N_MH_steps))[0][0]\n",
    "\n",
    "    grid_samples = jax.vmap(sample_MH_one)(jax.random.split(k, N_samples))\n",
    "    widget.state.update({\n",
    "        \"sample_poses\": grid_samples,\n",
    "    })\n",
    "\n",
    "camera_widget(\n",
    "    sub_key,\n",
    "    camera_pose,\n",
    "    \"MCMC trajectories\",\n",
    "    MCMC_handler,\n",
    "    result_plots=pose_plots(js(\"$state.sample_poses\"), color=\"green\"),\n",
    "    initial_state={\"sample_poses\": {\"p\": [], \"hd\": []}},\n",
    ")"
   ]
  },
  {
   "cell_type": "markdown",
   "id": "69",
   "metadata": {},
   "source": [
    "## Modeling robot motion\n",
    "\n",
    "### Robot programs\n",
    "\n",
    "We also assume given a description of a robot's movement via\n",
    "* an estimated initial pose (= position + heading), and\n",
    "* a program of controls (= advance distance, followed by rotate heading)."
   ]
  },
  {
   "cell_type": "code",
   "execution_count": null,
   "id": "70",
   "metadata": {},
   "outputs": [],
   "source": [
    "@pz.pytree_dataclass\n",
    "class Control(genjax.PythonicPytree):\n",
    "    ds: FloatArray\n",
    "    dhd: FloatArray\n",
    "\n",
    "def load_robot_program(file_name):\n",
    "    \"\"\"\n",
    "    Loads the robot program from a specified file.\n",
    "\n",
    "    Args:\n",
    "    - file_name (str): The name of the file containing the world configuration.\n",
    "\n",
    "    Returns:\n",
    "    - tuple: A tuple containing the initial state, and the total number of control steps.\n",
    "    \"\"\"\n",
    "    robot_program = load_file(file_name)\n",
    "\n",
    "    start = Pose(\n",
    "        jnp.array(robot_program[\"start_pose\"][\"p\"], dtype=float),\n",
    "        jnp.array(robot_program[\"start_pose\"][\"hd\"], dtype=float),\n",
    "    )\n",
    "\n",
    "    cs = jnp.array([[c[\"ds\"], c[\"dhd\"]] for c in robot_program[\"program_controls\"]])\n",
    "    controls = Control(cs[:, 0], cs[:, 1])\n",
    "\n",
    "    # We prepend a zero-effect control step to the control array. This allows\n",
    "    # numerous simplifications in what follows: we can consider the initial\n",
    "    # pose uncertainty as well as each subsequent step to be the same function\n",
    "    # of current position and control step.\n",
    "    noop_control = Control(jnp.array(0.0), jnp.array(0.0))\n",
    "    controls = controls.prepend(noop_control)\n",
    "\n",
    "    # Determine the total number of control steps\n",
    "    T = len(controls.ds)\n",
    "\n",
    "    return ({\"start\": start, \"controls\": controls}, T)"
   ]
  },
  {
   "cell_type": "code",
   "execution_count": null,
   "id": "71",
   "metadata": {},
   "outputs": [],
   "source": [
    "world[\"bounce\"] = 0.1\n",
    "\n",
    "robot_inputs, T = load_robot_program(\"robot_program.json\")"
   ]
  },
  {
   "cell_type": "markdown",
   "id": "72",
   "metadata": {},
   "source": [
    "Before we can visualize such a program, we will need to model robot motion."
   ]
  },
  {
   "cell_type": "markdown",
   "id": "73",
   "metadata": {},
   "source": [
    "### Integrate a path from a starting pose and controls\n",
    "\n",
    "If the motion of the robot is determined in an ideal manner by the controls, then we may simply integrate to determine the resulting path.  Naïvely, this results in the following."
   ]
  },
  {
   "cell_type": "code",
   "execution_count": null,
   "id": "74",
   "metadata": {},
   "outputs": [],
   "source": [
    "def diag(x): return (x, x)\n",
    "\n",
    "def integrate_controls_unphysical(robot_inputs):\n",
    "    \"\"\"\n",
    "    Integrates the controls to generate a path from the starting pose.\n",
    "\n",
    "    This function takes the initial pose and a series of control steps (ds for distance, dhd for heading change)\n",
    "    and computes the resulting path by applying each control step sequentially.\n",
    "\n",
    "    Args:\n",
    "    - robot_inputs (dict): A dictionary containing the starting pose and control steps.\n",
    "\n",
    "    Returns:\n",
    "    - list: A list of Pose instances representing the path taken by applying the controls.\n",
    "    \"\"\"\n",
    "    return jax.lax.scan(\n",
    "        lambda pose, control: diag(pose.apply_control(control)),\n",
    "        robot_inputs[\"start\"],\n",
    "        robot_inputs[\"controls\"],\n",
    "    )[1]"
   ]
  },
  {
   "cell_type": "code",
   "execution_count": null,
   "id": "75",
   "metadata": {},
   "outputs": [],
   "source": [
    "def update_unphysical_path(widget, _):\n",
    "    start = pose_at(widget.state, \"start\")\n",
    "    widget.state.update({\n",
    "        \"path\": integrate_controls_unphysical(robot_inputs | {\"start\": start})\n",
    "    })\n",
    "\n",
    "(\n",
    "    (\n",
    "        world_plot\n",
    "        + pose_plots(js(\"$state.path\"), color=Plot.constantly(\"path from integrating controls (UNphysical)\"))\n",
    "        + pose_widget(\"start\", robot_inputs[\"start\"], color=Plot.constantly(\"start pose\"))\n",
    "        + Plot.color_map({\"start pose\": \"blue\", \"path from integrating controls (UNphysical)\": \"green\"})\n",
    "    )\n",
    "    | Plot.html(js(\"`start = Pose([${$state.start.p.map((x) => x.toFixed(2))}], ${$state.start.hd.toFixed(2)})`\"))\n",
    "    | Plot.initialState({\n",
    "        \"path\": integrate_controls_unphysical(robot_inputs)\n",
    "    })\n",
    "    | Plot.onChange({\"start\": update_unphysical_path})\n",
    ")"
   ]
  },
  {
   "cell_type": "markdown",
   "id": "76",
   "metadata": {},
   "source": [
    "This code has the problem that it is **unphysical**: the walls in no way constrain the robot motion.\n",
    "\n",
    "We employ the following simple physics: when the robot's forward step through a control comes into contact with a wall, that step is interrupted and the robot instead \"bounces\" a fixed distance from the point of contact in the normal direction to the wall."
   ]
  },
  {
   "cell_type": "code",
   "execution_count": null,
   "id": "77",
   "metadata": {},
   "outputs": [],
   "source": [
    "@jax.jit\n",
    "def physical_step(p1: FloatArray, p2: FloatArray, hd):\n",
    "    \"\"\"\n",
    "    Computes a physical step considering wall collisions and bounces.\n",
    "\n",
    "    Args:\n",
    "    - p1, p2: Start and end points of the step.\n",
    "    - hd: Heading direction.\n",
    "\n",
    "    Returns:\n",
    "    - Pose: The new pose after taking the step, considering potential wall collisions.\n",
    "    \"\"\"\n",
    "    # Calculate step direction and length\n",
    "    step_direction = p2 - p1\n",
    "    step_length = jnp.linalg.norm(step_direction)\n",
    "    step_pose = Pose(p1, jnp.arctan2(step_direction[1], step_direction[0]))\n",
    "\n",
    "    # Calculate distances to all walls\n",
    "    distances = jax.vmap(distance, in_axes=(None, 0))(step_pose, world[\"walls\"])\n",
    "\n",
    "    # Find the closest wall\n",
    "    closest_wall_index = jnp.argmin(distances)\n",
    "    closest_wall_distance = distances[closest_wall_index]\n",
    "    closest_wall = world[\"walls\"][closest_wall_index]\n",
    "\n",
    "    # Calculate wall normal and collision point\n",
    "    collision_point = p1 + closest_wall_distance * step_pose.dp()\n",
    "    wall_direction = closest_wall[1] - closest_wall[0]\n",
    "    normalized_wall_direction = wall_direction / jnp.linalg.norm(wall_direction)\n",
    "    wall_normal = jnp.array([-normalized_wall_direction[1], normalized_wall_direction[0]])\n",
    "\n",
    "    # Ensure wall_normal points away from the robot's direction\n",
    "    wall_normal = jnp.where(\n",
    "        jnp.dot(step_pose.dp(), wall_normal) > 0, -wall_normal, wall_normal\n",
    "    )\n",
    "\n",
    "    # Calculate bounce off point\n",
    "    bounce_off_point: FloatArray = collision_point + world[\"bounce\"] * wall_normal\n",
    "\n",
    "    # Determine final position based on whether a collision occurred\n",
    "    final_position = jnp.where(\n",
    "        closest_wall_distance > step_length, p2, bounce_off_point\n",
    "    )\n",
    "\n",
    "    return Pose(final_position, hd)\n",
    "\n",
    "def integrate_controls_physical(robot_inputs):\n",
    "    \"\"\"\n",
    "    Integrates controls to generate a path, taking into account physical interactions with walls.\n",
    "\n",
    "    Args:\n",
    "    - robot_inputs: Dictionary containing the starting pose and control steps.\n",
    "\n",
    "    Returns:\n",
    "    - Pose: A Pose object representing the path taken by applying the controls.\n",
    "    \"\"\"\n",
    "    return jax.lax.scan(\n",
    "        lambda pose, control: diag(physical_step(\n",
    "                pose.p, pose.p + control.ds * pose.dp(), pose.hd + control.dhd\n",
    "            )),\n",
    "        robot_inputs[\"start\"],\n",
    "        robot_inputs[\"controls\"],\n",
    "    )[1]"
   ]
  },
  {
   "cell_type": "code",
   "execution_count": null,
   "id": "78",
   "metadata": {},
   "outputs": [],
   "source": [
    "path_integrated = integrate_controls_physical(robot_inputs)"
   ]
  },
  {
   "cell_type": "code",
   "execution_count": null,
   "id": "79",
   "metadata": {
    "lines_to_next_cell": 1
   },
   "outputs": [],
   "source": [
    "def update_physical_path(widget, _):\n",
    "    start = pose_at(widget.state, \"start\")\n",
    "    widget.state.update({\n",
    "        \"path\": integrate_controls_physical(robot_inputs | {\"start\": start})\n",
    "    })\n",
    "\n",
    "(\n",
    "    (\n",
    "        world_plot\n",
    "        + pose_plots(js(\"$state.path\"), color=Plot.constantly(\"path from integrating controls (physical)\"))\n",
    "        + pose_widget(\"start\", robot_inputs[\"start\"], color=Plot.constantly(\"start pose\"))\n",
    "        + Plot.color_map({\"start pose\": \"blue\", \"path from integrating controls (physical)\": \"green\"})\n",
    "    )\n",
    "    | Plot.html(js(\"`start = Pose([${$state.start.p.map((x) => x.toFixed(2))}], ${$state.start.hd.toFixed(2)})`\"))\n",
    "    | Plot.initialState({\n",
    "        \"path\": integrate_controls_physical(robot_inputs)\n",
    "    })\n",
    "    | Plot.onChange({\"start\": update_physical_path})\n",
    ")"
   ]
  },
  {
   "cell_type": "markdown",
   "id": "80",
   "metadata": {
    "lines_to_next_cell": 0
   },
   "source": [
    "### Modeling taking steps\n",
    "\n",
    "The following models attempting to step (constrained by the walls) towards a point with some uncertainty about it."
   ]
  },
  {
   "cell_type": "code",
   "execution_count": null,
   "id": "81",
   "metadata": {},
   "outputs": [],
   "source": [
    "@genjax.gen\n",
    "def step_model(motion_settings, start, control):\n",
    "    p = (\n",
    "        genjax.mv_normal_diag(\n",
    "            start.p + control.ds * start.dp(), motion_settings[\"p_noise\"] * jnp.ones(2)\n",
    "        )\n",
    "        @ \"p\"\n",
    "    )\n",
    "    hd = genjax.normal(start.hd + control.dhd, motion_settings[\"hd_noise\"]) @ \"hd\"\n",
    "    return physical_step(start.p, p, hd)\n",
    "\n",
    "\n",
    "# Set the motion settings\n",
    "degrees = jnp.pi / 180\n",
    "model_motion_settings = {\n",
    "    \"p_noise\": 0.15,\n",
    "    \"hd_noise\": 1 * degrees\n",
    "}"
   ]
  },
  {
   "cell_type": "markdown",
   "id": "82",
   "metadata": {},
   "source": [
    "The reader is especially encouraged, in the following widget, to drag the attempted step beyond a wall, to get a feel for how this model handles the physics."
   ]
  },
  {
   "cell_type": "code",
   "execution_count": null,
   "id": "83",
   "metadata": {},
   "outputs": [],
   "source": [
    "N_samples = 50\n",
    "\n",
    "key, k1, k2 = jax.random.split(key, 3)\n",
    "\n",
    "def confidence_circle(p, p_noise):\n",
    "    return Plot.ellipse(\n",
    "        p,\n",
    "        r=2.5 * p_noise,\n",
    "        fill=Plot.constantly(\"95% confidence region\"),\n",
    "    ) + Plot.color_map({\"95% confidence region\": \"rgba(255,0,0,0.25)\"})\n",
    "\n",
    "def update_confidence_circle(widget, _):\n",
    "    step = pose_at(widget.state, \"step\")\n",
    "    step_vector = step.p - robot_inputs[\"start\"].p\n",
    "\n",
    "    tilted_start_hd = jnp.atan2(step_vector[1], step_vector[0])\n",
    "    tilted_start = Pose(robot_inputs[\"start\"].p, tilted_start_hd)\n",
    "\n",
    "    ds = jnp.linalg.norm(step_vector)\n",
    "    dhd = (step.hd - tilted_start_hd + jnp.pi) % (2 * jnp.pi) - jnp.pi\n",
    "\n",
    "    widget.state.update({\n",
    "        \"start\": tilted_start.as_dict(),\n",
    "        \"control\": {\"ds\": ds, \"dhd\": dhd}\n",
    "    })\n",
    "\n",
    "    k1, k2 = jax.random.split(jax.random.wrap_key_data(widget.state.k))\n",
    "    samples = jax.vmap(step_model.propose, in_axes=(0, None))(\n",
    "        jax.random.split(k1, N_samples),\n",
    "        (model_motion_settings, tilted_start, Control(ds, dhd)),\n",
    "    )[2]\n",
    "    widget.state.update({\n",
    "        \"k\": jax.random.key_data(k2),\n",
    "        \"samples\": samples.as_dict()\n",
    "    })\n",
    "\n",
    "(\n",
    "    (\n",
    "        world_plot\n",
    "        + confidence_circle(js(\"[$state.step.p]\"), model_motion_settings[\"p_noise\"])\n",
    "        + pose_plots(js(\"$state.samples\"), color=Plot.constantly(\"samples from the step model\"))\n",
    "        + pose_plots(js(\"$state.start\"), color=Plot.constantly(\"start pose\"))\n",
    "        + pose_widget(\"step\", robot_inputs[\"start\"], color=Plot.constantly(\"attempt to step to here\"))\n",
    "        + Plot.color_map({\n",
    "            \"start pose\": \"black\",\n",
    "            \"attempt to step to here\": \"blue\",\n",
    "            \"samples from the step model\": \"green\",\n",
    "        })\n",
    "    )\n",
    "    | Plot.html(js(\"`control = Control(${$state.control.ds.toFixed(2)}, ${$state.control.dhd.toFixed(2)})`\"))\n",
    "    | Plot.initialState({\n",
    "        \"start\": robot_inputs[\"start\"].as_dict(),\n",
    "        \"control\": {\"ds\": 0.0, \"dhd\": 0.0},\n",
    "        \"k\": jax.random.key_data(k1),\n",
    "        \"samples\": (\n",
    "            jax.vmap(step_model.propose, in_axes=(0, None))(\n",
    "                jax.random.split(k2, N_samples),\n",
    "                (model_motion_settings, robot_inputs[\"start\"], robot_inputs[\"controls\"][0]),\n",
    "            )[2].as_dict()\n",
    "        ),\n",
    "    }, sync={\"k\"})\n",
    "    | Plot.onChange({\"step\": update_confidence_circle})\n",
    ")"
   ]
  },
  {
   "cell_type": "markdown",
   "id": "84",
   "metadata": {},
   "source": [
    "### Modeling a full path\n",
    "\n",
    "We may succinctly promote a singly-stepping model into a path-stepping model using *generative function combinators*.  In the following code, these transformations take place.\n",
    "* `step_model` starts with signature `(motion_settings, start, control) -> step`.\n",
    "* `partial_apply(motion_settings)` substitutes the first parameter, to get signature `(start, control) -> step`.\n",
    "* `.map(diag)` forms a tuple with two copies of the output, to get signature `(start, control) -> (step, step)`.\n",
    "* `.scan()` folds the computation over the second parameter, to get signature `(start, controls) -> (step, steps)`.\n",
    "\n",
    "Thus `path_model` returns a tuple whose second entry is the sampled path (and whose first entry duplicates the final position)."
   ]
  },
  {
   "cell_type": "code",
   "execution_count": null,
   "id": "85",
   "metadata": {},
   "outputs": [],
   "source": [
    "@genjax.gen\n",
    "def path_model(motion_settings):\n",
    "    return (\n",
    "        step_model\n",
    "        .partial_apply(motion_settings)\n",
    "        .map(diag)\n",
    "        .scan()(robot_inputs[\"start\"], robot_inputs[\"controls\"])\n",
    "        @ \"steps\"\n",
    "    )"
   ]
  },
  {
   "cell_type": "markdown",
   "id": "86",
   "metadata": {},
   "source": [
    "Note how the model returns a tuple with the terminus of the sampled path, followed by the path itself vectorized into a single `Pose` object."
   ]
  },
  {
   "cell_type": "code",
   "execution_count": null,
   "id": "87",
   "metadata": {},
   "outputs": [],
   "source": [
    "key, sub_key = jax.random.split(key)\n",
    "path_model.propose(sub_key, (model_motion_settings,))[2]"
   ]
  },
  {
   "cell_type": "markdown",
   "id": "88",
   "metadata": {},
   "source": [
    "Here is a single path with confidence circles on each step's draw."
   ]
  },
  {
   "cell_type": "code",
   "execution_count": null,
   "id": "89",
   "metadata": {},
   "outputs": [],
   "source": [
    "def plot_path_with_confidence(path, step):\n",
    "    prev_step = robot_inputs[\"start\"] if step == 0 else path[step - 1]\n",
    "    return (\n",
    "        world_plot\n",
    "        + confidence_circle(\n",
    "            [prev_step.apply_control(robot_inputs[\"controls\"][step]).p],\n",
    "            model_motion_settings[\"p_noise\"]\n",
    "        )\n",
    "        + [pose_plots(path[i]) for i in range(step)]\n",
    "        + pose_plots(path[step], color=Plot.constantly(\"next pose\"))\n",
    "        + Plot.color_map({\"previous poses\": \"black\", \"next pose\": \"green\"})\n",
    "    )\n",
    "\n",
    "key, sample_key = jax.random.split(key)\n",
    "path = path_model.propose(sample_key, (model_motion_settings,))[2][1]\n",
    "Plot.Frames(\n",
    "    [\n",
    "        plot_path_with_confidence(path, step)\n",
    "        + Plot.title(\"Motion model (samples)\")\n",
    "        for step in range(len(path))\n",
    "    ],\n",
    "    fps=2,\n",
    ")"
   ]
  },
  {
   "cell_type": "markdown",
   "id": "90",
   "metadata": {},
   "source": [
    "Here are some independent draws to get an aggregate sense.  Note how the motion noise really piles up!"
   ]
  },
  {
   "cell_type": "code",
   "execution_count": null,
   "id": "91",
   "metadata": {},
   "outputs": [],
   "source": [
    "N_samples = 12\n",
    "\n",
    "key, sub_key = jax.random.split(key)\n",
    "sample_paths = jax.vmap(\n",
    "    lambda k:\n",
    "        path_model.propose(k, (model_motion_settings,))[2][1]\n",
    ")(jax.random.split(sub_key, N_samples))\n",
    "\n",
    "Plot.html([\n",
    "    \"div.grid.grid-cols-2.gap-4\",\n",
    "    *[walls_plot + pose_plots(path) + {\"maxWidth\": 300, \"aspectRatio\": 1} for path in sample_paths]\n",
    "])"
   ]
  },
  {
   "cell_type": "markdown",
   "id": "92",
   "metadata": {},
   "source": [
    "### Full model\n",
    "\n",
    "We fold the sensor model into the motion model to form a \"full model\", whose traces describe simulations of the entire robot situation as we have described it."
   ]
  },
  {
   "cell_type": "code",
   "execution_count": null,
   "id": "93",
   "metadata": {},
   "outputs": [],
   "source": [
    "@genjax.gen\n",
    "def full_model_kernel(motion_settings, sensor_noise, state, control):\n",
    "    pose = step_model(motion_settings, state, control) @ \"pose\"\n",
    "    sensor_model(pose, sensor_angles, sensor_noise) @ \"sensor\"\n",
    "    return pose\n",
    "\n",
    "@genjax.gen\n",
    "def full_model(motion_settings, sensor_noise):\n",
    "    return (\n",
    "        full_model_kernel\n",
    "        .partial_apply(motion_settings, sensor_noise)\n",
    "        .map(diag)\n",
    "        .scan()(robot_inputs[\"start\"], robot_inputs[\"controls\"])\n",
    "        @ \"steps\"\n",
    "    )"
   ]
  },
  {
   "cell_type": "markdown",
   "id": "94",
   "metadata": {},
   "source": [
    "In the math picture, `full_model` corresponds to a distribution $\\text{full}$ over its traces.  Such a trace is identified with of a pair $(z_{0:T}, o_{0:T})$ where $z_{0:T} \\sim \\text{path}(\\ldots)$ and $o_t \\sim \\text{sensor}(z_t, \\ldots)$ for $t=0,\\ldots,T$.  The density of this trace is then\n",
    "$$\\begin{align*}\n",
    "P_\\text{full}(z_{0:T}, o_{0:T})\n",
    "&= P_\\text{path}(z_{0:T}) \\cdot \\prod\\nolimits_{t=0}^T P_\\text{sensor}(o_t) \\\\\n",
    "&= \\big(P_\\text{start}(z_0)\\ P_\\text{sensor}(o_0)\\big)\n",
    "  \\cdot \\prod\\nolimits_{t=1}^T \\big(P_\\text{step}(z_t)\\ P_\\text{sensor}(o_t)\\big).\n",
    "\\end{align*}$$\n"
   ]
  },
  {
   "cell_type": "code",
   "execution_count": null,
   "id": "95",
   "metadata": {},
   "outputs": [],
   "source": [
    "key, sub_key = jax.random.split(key)\n",
    "cm, score, retval = full_model.propose(sub_key, (model_motion_settings, model_sensor_noise))\n",
    "cm"
   ]
  },
  {
   "cell_type": "markdown",
   "id": "96",
   "metadata": {},
   "source": [
    "We now see the emergent tree structure of choice maps.  Under the layer `\"steps\"` (whose indirection allows us to vary `motion_settings` below), there are addresses `\"pose\"` and `\"sensor\"`, which respectively have sub-addresses `\"hd\", \"p\"` and `\"distance\"`.  At each leaf is an array resulting from the `scan` operation, in typical PyTree fashion."
   ]
  },
  {
   "cell_type": "markdown",
   "id": "97",
   "metadata": {},
   "source": [
    "By this point, visualization is essential.  We will just get a quick picture here, and turn toward a more principled approach immediately thereafter."
   ]
  },
  {
   "cell_type": "code",
   "execution_count": null,
   "id": "98",
   "metadata": {},
   "outputs": [],
   "source": [
    "def animate_path_and_sensors(path, readings, frame_key=None):\n",
    "    return Plot.Frames([\n",
    "        plot_path_with_confidence(path, step)\n",
    "        + plot_sensors(pose, readings[step], sensor_angles)\n",
    "        for step, pose in enumerate(path)\n",
    "    ], fps=2, key=frame_key)"
   ]
  },
  {
   "cell_type": "code",
   "execution_count": null,
   "id": "99",
   "metadata": {},
   "outputs": [],
   "source": [
    "animate_path_and_sensors(retval[1], cm[\"steps\", \"sensor\", \"distance\"])"
   ]
  },
  {
   "cell_type": "markdown",
   "id": "100",
   "metadata": {},
   "source": [
    "## From choicemaps to traces\n",
    "\n",
    "Managing the tuple `(choice map, score, return value)` given to us by `propose` can get unwieldy: just see how the call to `animate_path_and_sensors` above needed to pick and choose from these data.  `Gen` saves us a bunch of trouble by wrapping these data—and more—into a structure called a *trace*.  We pause our reasoning about the robot in order to familiarize ourselves with them.\n",
    "\n",
    "### Sampling traces with `simulate`\n",
    "\n",
    "The `Gen` method `simulate` is called just like `propose` (using a PRNG key plus parameters for the model), and it returns a trace."
   ]
  },
  {
   "cell_type": "code",
   "execution_count": null,
   "id": "101",
   "metadata": {
    "lines_to_next_cell": 2
   },
   "outputs": [],
   "source": [
    "# `simulate` takes the GF plus a tuple of args to pass to it.\n",
    "key, sub_key = jax.random.split(key)\n",
    "trace = step_model.simulate(\n",
    "    sub_key,\n",
    "    (model_motion_settings, robot_inputs[\"start\"], robot_inputs[\"controls\"][0]),\n",
    ")\n",
    "trace"
   ]
  },
  {
   "cell_type": "markdown",
   "id": "102",
   "metadata": {},
   "source": [
    "### GenJAX API for traces\n",
    "\n",
    "For starters, the trace contains all the information from `propose`."
   ]
  },
  {
   "cell_type": "code",
   "execution_count": null,
   "id": "103",
   "metadata": {
    "lines_to_next_cell": 0
   },
   "outputs": [],
   "source": [
    "trace.get_choices()"
   ]
  },
  {
   "cell_type": "code",
   "execution_count": null,
   "id": "104",
   "metadata": {},
   "outputs": [],
   "source": [
    "trace.get_score()"
   ]
  },
  {
   "cell_type": "code",
   "execution_count": null,
   "id": "105",
   "metadata": {
    "lines_to_next_cell": 0
   },
   "outputs": [],
   "source": [
    "trace.get_retval()"
   ]
  },
  {
   "cell_type": "markdown",
   "id": "106",
   "metadata": {},
   "source": [
    "One can access from a trace the GF that produced it, along with with model parameters that were supplied."
   ]
  },
  {
   "cell_type": "code",
   "execution_count": null,
   "id": "107",
   "metadata": {
    "lines_to_next_cell": 0
   },
   "outputs": [],
   "source": [
    "trace.get_gen_fn()"
   ]
  },
  {
   "cell_type": "code",
   "execution_count": null,
   "id": "108",
   "metadata": {
    "lines_to_next_cell": 0
   },
   "outputs": [],
   "source": [
    "trace.get_args()"
   ]
  },
  {
   "cell_type": "markdown",
   "id": "109",
   "metadata": {},
   "source": [
    "Instead of (the log of) the product of all the primitive choices made in a trace, one can take the product over just a subset using `project`."
   ]
  },
  {
   "cell_type": "code",
   "execution_count": null,
   "id": "110",
   "metadata": {},
   "outputs": [],
   "source": [
    "key, sub_key = jax.random.split(key)\n",
    "selections = [\n",
    "    genjax.Selection.none(),\n",
    "    S[\"p\"],\n",
    "    S[\"hd\"],\n",
    "    S[\"p\"] | S[\"hd\"]\n",
    "]\n",
    "[\n",
    "    trace.project(k, sel)\n",
    "    for k, sel in zip(jax.random.split(sub_key, len(selections)), selections)\n",
    "]"
   ]
  },
  {
   "cell_type": "markdown",
   "id": "111",
   "metadata": {},
   "source": [
    "Since the trace object has a lot going on, we use the Penzai visualization library to render the result. Click on the various nesting arrows to explore the structure."
   ]
  },
  {
   "cell_type": "code",
   "execution_count": null,
   "id": "112",
   "metadata": {},
   "outputs": [],
   "source": [
    "pz.ts.display(trace)"
   ]
  },
  {
   "cell_type": "markdown",
   "id": "113",
   "metadata": {
    "lines_to_next_cell": 0
   },
   "source": [
    "### Modifying traces\n",
    "\n",
    "The metaprogramming approach of Gen affords the opportunity to explore alternate stochastic execution histories.  Namely, the `update` method of a trace takes modifications to its arguments and primitive choice values, and returns an accordingly modified trace. It also returns (the log of) the ratio of the updated trace's density to the original trace's density, together with a precise record of the resulting modifications that played out.\n",
    "\n",
    "One could, for instance, consider just the placement of the first step, and replace its stochastic choice of heading with an updated value. The original trace was typical under the pose prior model, whereas the modified one may be rather less likely. This plot is annotated with log of how much unlikelier, the score ratio:"
   ]
  },
  {
   "cell_type": "code",
   "execution_count": null,
   "id": "114",
   "metadata": {},
   "outputs": [],
   "source": [
    "key, k1, k2 = jax.random.split(key, 3)\n",
    "trace = step_model.simulate(\n",
    "    k1,\n",
    "    (model_motion_settings, robot_inputs[\"start\"], robot_inputs[\"controls\"][0]),\n",
    ")\n",
    "rotated_trace, rotated_trace_weight_diff, _, _ = trace.update(\n",
    "    k2, C[\"hd\"].set(jnp.pi / 2)\n",
    ")\n",
    "\n",
    "(\n",
    "    world_plot\n",
    "    + pose_plots(trace.get_retval(), color=Plot.constantly(\"some pose\"))\n",
    "    + pose_plots(\n",
    "        rotated_trace.get_retval(), color=Plot.constantly(\"with heading modified\")\n",
    "    )\n",
    "    + Plot.color_map({\"some pose\": \"green\", \"with heading modified\": \"red\"})\n",
    "    + Plot.title(\"Modifying a heading\")\n",
    ") | html(f\"score ratio: {rotated_trace_weight_diff}\")"
   ]
  },
  {
   "cell_type": "markdown",
   "id": "115",
   "metadata": {
    "lines_to_next_cell": 0
   },
   "source": [
    "It is worth carefully thinking through a trickier instance of this.  Suppose instead, within the full path, we replaced the first step's stochastic choice of heading with some specific value."
   ]
  },
  {
   "cell_type": "code",
   "execution_count": null,
   "id": "116",
   "metadata": {},
   "outputs": [],
   "source": [
    "key, k1, k2 = jax.random.split(key, 3)\n",
    "trace = path_model.simulate(k1, (model_motion_settings,))\n",
    "rotated_first_step, rotated_first_step_weight_diff, _, _ = trace.update(\n",
    "    k2, C[\"steps\", 0, \"hd\"].set(jnp.pi / 2)\n",
    ")"
   ]
  },
  {
   "cell_type": "markdown",
   "id": "117",
   "metadata": {},
   "source": [
    "Note carefully how, below, the green path has perfectly overdrawn the red path, except for the first pose.  Why has modifying the first pose not modified the rest of the path?  Trace through the execution of the code in detail to understand why."
   ]
  },
  {
   "cell_type": "code",
   "execution_count": null,
   "id": "118",
   "metadata": {},
   "outputs": [],
   "source": [
    "(\n",
    "    world_plot\n",
    "    + [\n",
    "        pose_plots(pose, color=Plot.constantly(\"with heading modified\"))\n",
    "        for pose in rotated_first_step.get_retval()[1]\n",
    "    ]\n",
    "    + [\n",
    "        pose_plots(pose, color=Plot.constantly(\"some path\"))\n",
    "        for pose in trace.get_retval()[1]\n",
    "    ]\n",
    "    + Plot.color_map({\"some path\": \"green\", \"with heading modified\": \"red\"})\n",
    ") | html(f\"score ratio: {rotated_first_step_weight_diff}\")"
   ]
  },
  {
   "cell_type": "markdown",
   "id": "119",
   "metadata": {},
   "source": [
    "### Visualizing traces"
   ]
  },
  {
   "cell_type": "markdown",
   "id": "120",
   "metadata": {},
   "source": [
    "In addition to the handy data structure inspection `pz.ts.display(trace)` shown above, it is important to develop, ongoing in one's work, visualization code *as a function of the trace*, since all the information is on one place here, and *in the context of the human meaning of the information*."
   ]
  },
  {
   "cell_type": "code",
   "execution_count": null,
   "id": "121",
   "metadata": {},
   "outputs": [],
   "source": [
    "def get_path(trace):\n",
    "    return trace.get_retval()[1]\n",
    "\n",
    "def get_sensors(trace):\n",
    "    return trace.get_choices()[\"steps\", \"sensor\", \"distance\"]\n",
    "\n",
    "def animate_full_trace(trace, frame_key=None):\n",
    "    path = get_path(trace)\n",
    "    readings = get_sensors(trace)\n",
    "    return animate_path_and_sensors(\n",
    "        path, readings, frame_key=frame_key\n",
    "    )"
   ]
  },
  {
   "cell_type": "code",
   "execution_count": null,
   "id": "122",
   "metadata": {},
   "outputs": [],
   "source": [
    "key, sub_key = jax.random.split(key)\n",
    "tr = full_model.simulate(sub_key, (model_motion_settings, model_sensor_noise))\n",
    "animate_full_trace(tr)"
   ]
  },
  {
   "cell_type": "markdown",
   "id": "123",
   "metadata": {
    "lines_to_next_cell": 0
   },
   "source": [
    "## The data\n",
    "\n",
    "Let us generate some fixed synthetic motion data that, for pedagogical purposes, we will work with as if it were the actual path of the robot.  We will generate two versions, one each with low or high motion deviation."
   ]
  },
  {
   "cell_type": "code",
   "execution_count": null,
   "id": "124",
   "metadata": {
    "lines_to_next_cell": 0
   },
   "outputs": [],
   "source": [
    "motion_settings_low_deviation = {\n",
    "    \"p_noise\": 0.05,\n",
    "    \"hd_noise\": (1 / 10) * degrees,\n",
    "}\n",
    "motion_settings_high_deviation = {\n",
    "    \"p_noise\": 0.4,\n",
    "    \"hd_noise\": 2 * degrees,\n",
    "}\n",
    "\n",
    "key, k_low, k_high = jax.random.split(jax.random.key(0), 3)\n",
    "trace_low_deviation = full_model.simulate(k_low, (motion_settings_low_deviation, model_sensor_noise))\n",
    "trace_high_deviation = full_model.simulate(k_high, (motion_settings_high_deviation, model_sensor_noise))\n",
    "\n",
    "(\n",
    "    (\n",
    "        html(\"low motion-deviation data\")\n",
    "        | animate_full_trace(trace_low_deviation, frame_key=\"frame\")\n",
    "    ) & (\n",
    "        html(\"high motion-deviation data\")\n",
    "        | animate_full_trace(trace_high_deviation, frame_key=\"frame\")\n",
    "    )\n",
    ") | Plot.Slider(\"frame\", 0, T, fps=2)"
   ]
  },
  {
   "cell_type": "markdown",
   "id": "125",
   "metadata": {
    "lines_to_next_cell": 0
   },
   "source": [
    "Since we imagine these data as having been recorded from the real world, keep only their extracted data, *discarding* the traces that produced them."
   ]
  },
  {
   "cell_type": "code",
   "execution_count": null,
   "id": "126",
   "metadata": {},
   "outputs": [],
   "source": [
    "# These are what we hope to recover...\n",
    "path_low_deviation = get_path(trace_low_deviation)\n",
    "path_high_deviation = get_path(trace_high_deviation)\n",
    "\n",
    "# ...using these data.\n",
    "observations_low_deviation = get_sensors(trace_low_deviation)\n",
    "observations_high_deviation = get_sensors(trace_high_deviation)\n",
    "\n",
    "constraints_low_deviation = C[\"steps\", \"sensor\", \"distance\"].set(observations_low_deviation)\n",
    "constraints_high_deviation = C[\"steps\", \"sensor\", \"distance\"].set(observations_high_deviation)"
   ]
  },
  {
   "cell_type": "markdown",
   "id": "127",
   "metadata": {
    "lines_to_next_cell": 2
   },
   "source": [
    "We summarize the information available to the robot to determine its location:\n",
    "* On the one hand, one has to produce a guess of the start pose plus some controls, which one might integrate to produce an idealized guess of path.\n",
    "* On the other hand, one has the sensor data, which, recall, look to it like this:"
   ]
  },
  {
   "cell_type": "code",
   "execution_count": null,
   "id": "128",
   "metadata": {
    "lines_to_next_cell": 0
   },
   "outputs": [],
   "source": [
    "empty_world = Plot.new(\n",
    "    {\"margin\": 0, \"inset\": 50, \"width\": 500, \"axis\": None, \"aspectRatio\": 1},\n",
    "    Plot.domain(world[\"bounding_box\"][0]),\n",
    ")\n",
    "\n",
    "(\n",
    "    Plot.Frames([\n",
    "        empty_world\n",
    "        + plot_sensors(Pose(world[\"center_point\"], 0.0), readings, sensor_angles, show_legend=True)\n",
    "        for readings in observations_low_deviation\n",
    "    ], key=\"frame\")\n",
    "    & Plot.Frames([\n",
    "        empty_world\n",
    "        + plot_sensors(Pose(world[\"center_point\"], 0.0), readings, sensor_angles, show_legend=True)\n",
    "        for readings in observations_high_deviation\n",
    "    ], key=\"frame\")\n",
    ") | Plot.Slider(\"frame\", 0, T, fps=2)"
   ]
  },
  {
   "cell_type": "markdown",
   "id": "129",
   "metadata": {
    "lines_to_next_cell": 0
   },
   "source": [
    "## Inference over robot paths\n",
    "\n",
    "### Why we need inference: in a picture\n",
    "\n",
    "The path obtained by integrating the controls serves as a proposal for the true path, but it is unsatisfactory, especially in the high motion deviation case. The picture gives an intuitive sense of the (poor) fit:"
   ]
  },
  {
   "cell_type": "code",
   "execution_count": null,
   "id": "130",
   "metadata": {
    "lines_to_next_cell": 0
   },
   "outputs": [],
   "source": [
    "(\n",
    "    Plot.Frames([\n",
    "        world_plot\n",
    "        + plot_sensors(pose, readings, sensor_angles, show_legend=True)\n",
    "        for (pose, readings) in zip(path_integrated, observations_low_deviation)\n",
    "    ], key=\"frame\")\n",
    "    & Plot.Frames([\n",
    "        world_plot\n",
    "        + plot_sensors(pose, readings, sensor_angles, show_legend=True)\n",
    "        for (pose, readings) in zip(path_integrated, observations_high_deviation)\n",
    "    ], key=\"frame\")\n",
    ") | Plot.Slider(\"frame\", 0, T, fps=2)"
   ]
  },
  {
   "cell_type": "markdown",
   "id": "131",
   "metadata": {},
   "source": [
    "It would seem that the fit is reasonable in low motion deviation, but really breaks down in high motion deviation.\n",
    "\n",
    "We are not limited to visual judgments here: the model can quantitatively assess how good a fit the integrated path is for the data.  In order to do this, we detour to explain how to produce samples from our model that agree with the fixed observation data."
   ]
  },
  {
   "cell_type": "markdown",
   "id": "132",
   "metadata": {},
   "source": [
    "### Producing samples with constraints\n",
    "\n",
    "We have seen how `simulate` performs traced execution of a generative function: as the program runs, it draws stochastic choices from all required primitive distributions, and records them in a choice map.\n",
    "\n",
    "Given a choice map of *constraints* that declare fixed values of some of the primitive choices, the operation `importance` proposes traces of the generative function that are consistent with these constraints."
   ]
  },
  {
   "cell_type": "code",
   "execution_count": null,
   "id": "133",
   "metadata": {},
   "outputs": [],
   "source": [
    "key, k1, k2 = jax.random.split(key, 3)\n",
    "trace_low, log_weight_low = full_model.importance(\n",
    "    k1, constraints_low_deviation, (model_motion_settings, model_sensor_noise)\n",
    ")\n",
    "trace_high, log_weight_high = full_model.importance(\n",
    "    k2, constraints_high_deviation, (model_motion_settings, model_sensor_noise)\n",
    ")\n",
    "\n",
    "(\n",
    "    (\n",
    "        html(\"fresh path sample\", \"fixed low motion-deviation sensor data\")\n",
    "        | animate_full_trace(trace_low, frame_key=\"frame\")\n",
    "        | html(f\"log_weight: {log_weight_low}\")\n",
    "    ) & (\n",
    "        html(\"fresh path sample\", \"fixed high motion-deviation sensor data\")\n",
    "        | animate_full_trace(trace_high, frame_key=\"frame\")\n",
    "        | html(f\"log_weight: {log_weight_high}\")\n",
    "    )\n",
    ") | Plot.Slider(\"frame\", 0, T, fps=2)"
   ]
  },
  {
   "cell_type": "markdown",
   "id": "134",
   "metadata": {
    "lines_to_next_cell": 0
   },
   "source": [
    "A trace resulting from a call to `importance` is structurally indistinguishable from one drawn from `simulate`.  But there is a key *situational* difference: while `get_score` always returns the frequency with which `simulate` stochastically produces the trace, this value is **no longer equal to** the frequency with which the trace is stochastically produced by `importance`.  This is both true in an obvious and less relevant sense, as well as true in a more subtle and extremely germane sense.\n",
    "\n",
    "On the superficial level, since all traces produced by `importance` are consistent with the constraints, those traces that are inconsistent with the constraints do not occur at all, and in balance the traces that are consistent with the constraints are more common.\n",
    "\n",
    "More deeply and importantly, the stochastic choice of the *constraints* under a run of `simulate` might have any density, perhaps very low.  This constraints density contributes as always to the `get_score`, whereas it does not influence the frequency of producing this trace under `importance`.\n",
    "\n",
    "The ratio of the `get_score` of a trace to the probability density that `importance` would produce it with the given constraints, is called the *importance weight*.  For convenience, (the log of) this quantity is returned by `importance` along with the trace.\n",
    "\n",
    "We stress the basic invariant:\n",
    "$$\n",
    "(\\text{frequency simulate creates this trace})\n",
    "=\n",
    "\\text{get\\_score}(\\text{trace})\n",
    "=\n",
    "(\\text{weight from importance})\n",
    "\\cdot\n",
    "(\\text{frequency importance creates this trace}).\n",
    "$$"
   ]
  },
  {
   "cell_type": "markdown",
   "id": "135",
   "metadata": {
    "lines_to_next_cell": 0
   },
   "source": [
    "The preceding comments apply to generative functions in wide generality.  We can say even more about our present examples, because further assumptions hold.\n",
    "1. There is no untraced randomness.  Given a *full choice map* for constraints, `importance` is rendered deterministic.  In particular, the importance weight is the `get_score`.\n",
    "2. The generative function was constructed using GenJAX's DSL and primitive distributions.  Under ancestral sampling, `importance` with *empty constraints* reduces to `simulate` plus importance weight $1$.\n",
    "3. Combined, the importance weight is directly computed as the `project` of the trace upon the choice map addresses that were constrained in the call to `importance`.\n",
    "\n",
    "Thus in our running example, the projection in question is $\\prod_{t=0}^T P_\\text{sensor}(o_t)$."
   ]
  },
  {
   "cell_type": "code",
   "execution_count": null,
   "id": "136",
   "metadata": {},
   "outputs": [],
   "source": [
    "key, sub_key = jax.random.split(key)\n",
    "log_weight_high - trace_high.project(sub_key, S[\"steps\", \"sensor\", \"distance\"])"
   ]
  },
  {
   "cell_type": "markdown",
   "id": "137",
   "metadata": {},
   "source": [
    "### Why we need inference: in numbers\n",
    "\n",
    "We return to how the model offers a numerical benchmark for how good a fit the integrated path is.\n",
    "\n",
    "In words, the integrated path has incongruously low likelihood for the data.  The (log) density of the measurement data, given the integrated path..."
   ]
  },
  {
   "cell_type": "code",
   "execution_count": null,
   "id": "138",
   "metadata": {
    "lines_to_next_cell": 0
   },
   "outputs": [],
   "source": [
    "def constraint_from_path(path):\n",
    "    c_ps = jax.vmap(lambda ix, p: C[\"steps\", ix, \"pose\", \"p\"].set(p))(\n",
    "        jnp.arange(T), path.p\n",
    "    )\n",
    "    c_hds = jax.vmap(lambda ix, hd: C[\"steps\", ix, \"pose\", \"hd\"].set(hd))(\n",
    "        jnp.arange(T), path.hd\n",
    "    )\n",
    "    return c_ps | c_hds\n",
    "\n",
    "constraints_path_integrated = constraint_from_path(path_integrated)\n",
    "\n",
    "key, k1, k2 = jax.random.split(key, 3)\n",
    "trace_path_integrated_observations_low_deviation, log_weight_low = full_model.importance(\n",
    "    k1,\n",
    "    constraints_path_integrated | constraints_low_deviation,\n",
    "    (model_motion_settings, model_sensor_noise),\n",
    ")\n",
    "trace_path_integrated_observations_high_deviation, log_weight_high = full_model.importance(\n",
    "    k2,\n",
    "    constraints_path_integrated | constraints_high_deviation,\n",
    "    (model_motion_settings, model_sensor_noise),\n",
    ")\n",
    "\n",
    "(\n",
    "    (\n",
    "        html(\"integrated path from controls\", \"fixed low motion-deviation sensor data\")\n",
    "        | animate_full_trace(trace_path_integrated_observations_low_deviation, frame_key=\"frame\")\n",
    "        | html(f\"log_weight: {log_weight_low}\")\n",
    "    ) & (\n",
    "        html(\"integrated path from controls\", \"fixed high motion-deviation sensor data\")\n",
    "        | animate_full_trace(trace_path_integrated_observations_high_deviation, frame_key=\"frame\")\n",
    "        | html(f\"log_weight: {log_weight_high}\")\n",
    "    )\n",
    ") | Plot.Slider(\"frame\", 0, T, fps=2)"
   ]
  },
  {
   "cell_type": "markdown",
   "id": "139",
   "metadata": {
    "lines_to_next_cell": 2
   },
   "source": [
    "(the `log_weight` reported just above this cell) ...more closely resembles the densities of these data back-fitted onto typical (random) paths of the model, than the (log) densities of data typically produced by the full model run in its natural manner:"
   ]
  },
  {
   "cell_type": "markdown",
   "id": "140",
   "metadata": {},
   "source": [
    "## Generic strategies for inference\n",
    "\n",
    "We now spell out some generic strategies for conditioning the ouputs of a model towards some observed data.  The word \"generic\" indicates that they make no special intelligent use of the model structure, and their convergence is guaranteed by theorems of a similar nature.  In terms to be defined shortly, they simply take a pair $(Q,f)$ of a proposal and a weight function that implement importance sampling with target $P$.\n",
    "\n",
    "There is no free lunch in this game: generic inference recipies are inefficient, for example, converging very slowly or needing vast counts of particles, especially in high-dimensional settings.  One of the root problems is that proposals $Q$ may provide arbitrarily bad samples relative to our target $P$; if $Q$ still supports all samples of $P$ with microscopic but nonzero density, then the generic algorithm will converge in the limit, however astronomically slowly.\n",
    "\n",
    "Rather, efficiency will become possible when we do the *opposite* of generic: exploit what we actually know about the problem in our design of the inference strategy to propose better traces towards our target.  Gen's aim is to provide the right entry points to enact this exploitation."
   ]
  },
  {
   "cell_type": "markdown",
   "id": "141",
   "metadata": {},
   "source": [
    "### The posterior distribution and importance sampling\n",
    "\n",
    "Mathematically, the passage from the prior to the posterior is the operation of conditioning distributions.\n",
    "\n",
    "Intuitively, the conditional distribution $\\text{full}(\\cdot | o_{0:T})$ is just the restriction of the joint distribution $\\text{full}(z_{0:T}, o_{0:T})$ to where the parameter $o_{0:T}$ is constant, letting $z_{0:T}$ continue to vary.  This restriction no longer has total density equal to $1$, so we must renormalize it.  The normalizing constant must be\n",
    "$$\n",
    "P_\\text{marginal}(o_{0:T})\n",
    ":= \\int P_\\text{full}(Z_{0:T}, o_{0:T}) \\, dZ_{0:T}\n",
    " = \\mathbf{E}_{Z_{0:T} \\sim \\text{path}}\\big[P_\\text{full}(Z_{0:T}, o_{0:T})\\big].\n",
    "$$\n",
    "By Fubini's Theorem, this function of $o_{0:T}$ is the density of a probability distribution over observations $o_{0:T}$, called the *marginal distribution*; but we will often have $o_{0:T}$ fixed, and consider it a constant.  Then, finally, the *conditional distribution* $\\text{full}(\\cdot | o_{0:T})$ is defined to have the normalized density\n",
    "$$\n",
    "P_\\text{full}(z_{0:T} | o_{0:T}) := \\frac{P_\\text{full}(z_{0:T}, o_{0:T})}{P_\\text{marginal}(o_{0:T})}.\n",
    "$$\n",
    "\n",
    "The goal of inference is to produce samples $\\text{trace}_{0:T}$ distributed (approximately) according to $\\text{full}(\\cdot | o_{0:T})$.  The most immediately evident problem with doing inference is that the quantity $P_\\text{marginal}(o_{0:T})$ is intractable!"
   ]
  },
  {
   "cell_type": "markdown",
   "id": "142",
   "metadata": {},
   "source": [
    "Define the function $\\hat f(z_{0:T})$ of sample values $z_{0:T}$ to be the ratio of probability densities between the posterior distribution $\\text{full}(\\cdot | o_{0:T})$ that we wish to sample from, and the prior distribution $\\text{path}$ that we are presently able to produce samples from.  Manipulating it à la Bayes's Rule gives:\n",
    "$$\n",
    "\\hat f(z_{0:T})\n",
    ":=\n",
    "\\frac{P_\\text{full}(z_{0:T} | o_{0:T})}{P_\\text{path}(z_{0:T})}\n",
    "=\n",
    "\\frac{P_\\text{full}(z_{0:T}, o_{0:T})}{P_\\text{marginal}(o_{0:T}) \\cdot P_\\text{path}(z_{0:T})}\n",
    "=\n",
    "\\frac{\\prod_{t=0}^T P_\\text{sensor}(o_t)}{P_\\text{marginal}(o_{0:T})}.\n",
    "$$\n",
    "Noting that the intractable quantity\n",
    "$$\n",
    "Z := P_\\text{marginal}(o_{0:T})\n",
    "$$\n",
    "is constant in $z_{0:T}$, we define the explicitly computable quantity\n",
    "$$\n",
    "f(z_{0:T}) := Z \\cdot \\hat f(z_{0:T}) = \\prod\\nolimits_{t=0}^T P_\\text{sensor}(o_t).\n",
    "$$\n",
    "The right hand side has been written sloppily, but we remind the reader that $P_\\text{sensor}(o_t)$ is a product of densities of normal distributions that *does depend* on $z_t$ as well as \"sensor\" and \"world\" parameters.\n",
    "\n",
    "Compare to our previous description of calling `importance` on `full_model` with the observations $o_{0:T}$ as constraints: it produces a trace of the form $(z_{0:T}, o_{0:T})$ where $z_{0:T} \\sim \\text{path}$ has been drawn from $\\text{path}$, together with the weight equal to none other than this $f(z_{0:T})$."
   ]
  },
  {
   "cell_type": "markdown",
   "id": "143",
   "metadata": {},
   "source": [
    "This reasoning involving `importance` is indicative of the general scenario with conditioning, and fits into the following shape.\n",
    "\n",
    "We have on hand two distributions, a *target* $P$ from which we would like to (approximately) generate samples, and a *proposal* $Q$ from which we are presently able to generate samples.  We must assume that the proposal is a suitable substitute for the target, in the sense that every possible event under $P$ occurs under $Q$ (mathematically, $P$ is absolutely continuous with respect to $Q$).\n",
    "\n",
    "Under these hypotheses, there is a well-defined density ratio function $\\hat f$ between $P$ and $Q$ (mathematically, the Radon–Nikodym derivative).  If $z$ is a sample drawn from $Q$, then $\\hat w = \\hat f(z)$ is how much more or less likely $z$ would have been drawn from $P$.  We only require that we are able to compute the *unnormalized* density ratio, that is, some function of the form $f = Z \\cdot \\hat f$ where $Z > 0$ is constant.\n",
    "\n",
    "The pair $(Q,f)$ is said to implement *importance sampling* for $P$, and the values of $f$ are called *importance weights*.  Generic inference attempts to use knowledge of $f$ to correct for the difference in behavior between $P$ and $Q$, and thereby use $Q$ to produce samples from (approximately) $P$.\n",
    "\n",
    "So in our running example, the target $P$ is the posterior distribution on paths $\\text{full}(\\cdot | o_{0:T})$, the proposal $Q$ is the path prior $\\text{path}$, and the importance weight $f$ is the product of the sensor model densities.  We seek a computational model of the first; the second and third are computationally modeled by calling `importance` on `full_model` constrained by the observations $o_{0:T}$.  (The computation of the second, on its own, simplifies to `path_model`.)\n"
   ]
  },
  {
   "cell_type": "markdown",
   "id": "144",
   "metadata": {},
   "source": [
    "### Sampling / importance resampling\n",
    "\n",
    "We turn to inference strategies that require only our proposal $Q$ and unnormalized weight function $f$ for the target $P$, *without* forcing us to wrangle any intractable integrals or upper bounds.\n",
    "\n",
    "Suppose we are given a list of nonnegative numbers, not all zero: $w^1, w^2, \\ldots, w^N$.  To *normalize* the numbers means computing $\\hat w^i := w^i / \\sum_{j=1}^N w^j$.  The normalized list $\\hat w^1, \\hat w^2, \\ldots, \\hat w^N$ determines a *categorical distribution* on the indices $1, \\ldots, N$, wherein the index $i$ occurs with probability $\\hat w^i$.\n",
    "Note that for any constant $Z > 0$, the scaled list $Zw^1, Zw^2, \\ldots, Zw^N$ leads to the same normalized $\\hat w^i$ as well as the same categorical distribution.\n",
    "\n",
    "When some list of data $z^1, z^2, \\ldots, z^N$ have been associated with these respective numbers $w^1, w^2, \\ldots, w^N$, then to *importance **re**sample* $M$ values from these data according to these weights means to independently sample indices $a^1, a^2, \\ldots, a^M \\sim \\text{categorical}([\\hat w^1, \\hat w^2, \\ldots, \\hat w^N])$ and return the new list of data $z^{a^1}, z^{a^2}, \\ldots, z^{a^M}$.  Compare to the function `resample` implemented in the code box below.\n",
    "\n",
    "The *sampling / importance resampling* (SIR) strategy for inference runs as follows.  Let counts $N > 0$ and $M > 0$ be given.\n",
    "1. Importance sample:  Independently sample $N$ data $z^1, z^2, \\ldots, z^N$ from the proposal $Q$, called *particles*.  Compute also their *importance weights* $w^i := f(z^i)$ for $i = 1, \\ldots, N$.\n",
    "2. Importance resample:  Independently sample $M$ indices $a^1, a^2, \\ldots, a^M \\sim \\text{categorical}([\\hat w^1, \\hat w^2, \\ldots, \\hat w^N])$, where $\\hat w^i = w^i / \\sum_{j=1}^N w^j$, and return $z^{a^1}, z^{a^2}, \\ldots, z^{a^M}$. These sampled particles all inherit the *average weight* $\\sum_{j=1}^N w^j / N$.\n",
    "\n",
    "As $N \\to \\infty$ with $M$ fixed, the samples produced by this algorithm converge to $M$ independent samples drawn from the target $P$.  This strategy is computationally an improve\n",
    "ment over rejection sampling: intead of indefinitely constructing and rejecting samples, we can guarantee to use at least some of them after a fixed time, and we are using the best guesses among these."
   ]
  },
  {
   "cell_type": "code",
   "execution_count": null,
   "id": "145",
   "metadata": {},
   "outputs": [],
   "source": [
    "def importance_resample_unjitted(\n",
    "    key: PRNGKey, constraints: genjax.ChoiceMap, motion_settings, sensor_noise, N: int, K: int\n",
    "):\n",
    "    \"\"\"Produce K importance samples of depth N from the model. That is, K times, we\n",
    "    generate N importance samples conditioned by the constraints, and categorically\n",
    "    select one of them.\"\"\"\n",
    "    key1, key2 = jax.random.split(key)\n",
    "    samples, log_weights = jax.vmap(full_model.importance, in_axes=(0, None, None))(\n",
    "        jax.random.split(key1, N * K), constraints, (motion_settings, sensor_noise)\n",
    "    )\n",
    "    winners = jax.vmap(genjax.categorical.propose)(\n",
    "        jax.random.split(key2, K), (jnp.reshape(log_weights, (K, N)),)\n",
    "    )[2]\n",
    "    # indices returned are relative to the start of the K-segment from which they were drawn.\n",
    "    # globalize the indices by adding back the index of the start of each segment.\n",
    "    winners += jnp.arange(0, N * K, N)\n",
    "    selected = jax.tree.map(lambda x: x[winners], samples)\n",
    "    return selected\n",
    "\n",
    "importance_resample = jax.jit(importance_resample_unjitted, static_argnums=(4, 5))\n",
    "\n",
    "\n",
    "def pytree_transpose(list_of_pytrees):\n",
    "  \"\"\"\n",
    "  Converts a list of pytrees of identical structure into a single pytree of lists.\n",
    "  \"\"\"\n",
    "  return jax.tree.map(lambda *xs: jnp.array(list(xs)), *list_of_pytrees)\n",
    "\n",
    "def plot_inference_result(title, samples_label, posterior_paths, target_path, history_paths=None):\n",
    "    return (\n",
    "        html(*title)\n",
    "        | (\n",
    "            world_plot\n",
    "            + (\n",
    "                [\n",
    "                    Plot.line(\n",
    "                        {\"x\": path.p[:, 0], \"y\": path.p[:, 1]},\n",
    "                        curve=\"linear\",\n",
    "                        opacity=0.05,\n",
    "                        strokeWidth=2,\n",
    "                        stroke=\"red\"\n",
    "                    )\n",
    "                    for path in history_paths\n",
    "                ] if history_paths else []\n",
    "            )\n",
    "            + [\n",
    "                Plot.line(\n",
    "                    {\"x\": path.p[:, 0], \"y\": path.p[:, 1]},\n",
    "                    curve=\"linear\",\n",
    "                    opacity=0.2,\n",
    "                    strokeWidth=2,\n",
    "                    stroke=\"green\"\n",
    "                )\n",
    "                for path in posterior_paths\n",
    "            ]\n",
    "            + pose_plots(\n",
    "                target_path, fill=Plot.constantly(\"path to be inferred\"), opacity = 0.5, strokeWidth=2\n",
    "            )\n",
    "            + Plot.color_map({\n",
    "                samples_label: \"green\",\n",
    "                \"path to be inferred\": \"black\",\n",
    "            } | (\n",
    "               {\"culled paths\": \"red\"} if history_paths else {}\n",
    "            ))\n",
    "        )\n",
    "    )"
   ]
  },
  {
   "cell_type": "code",
   "execution_count": null,
   "id": "146",
   "metadata": {
    "lines_to_next_cell": 0
   },
   "outputs": [],
   "source": [
    "N_presamples = 30000\n",
    "N_samples = 10\n",
    "\n",
    "key, k1, k2 = jax.random.split(key, 3)\n",
    "low_posterior = importance_resample(\n",
    "    k1, constraints_low_deviation, model_motion_settings, model_sensor_noise, N_presamples, N_samples\n",
    ")\n",
    "high_posterior = importance_resample(\n",
    "    k2, constraints_high_deviation, model_motion_settings, model_sensor_noise, N_presamples, N_samples\n",
    ")\n",
    "\n",
    "plot_inference_result(\n",
    "    (\"importance resampling on low motion-deviation data\",),\n",
    "    \"importance resamples\",\n",
    "    jax.vmap(get_path)(low_posterior),\n",
    "    path_low_deviation\n",
    ") & plot_inference_result(\n",
    "    (\"importance resampling on high motion-deviation data\",),\n",
    "    \"importance resamples\",\n",
    "    jax.vmap(get_path)(high_posterior),\n",
    "    path_high_deviation\n",
    ")"
   ]
  },
  {
   "cell_type": "markdown",
   "id": "147",
   "metadata": {},
   "source": [
    "Let's pause a moment to examine this chart. If the robot had no sensors, it would have no alternative but to estimate its position by integrating the control inputs to produce the integrated path in gray. In the low deviation setting, *the sensor data combined with importance sampling is enough* to give accurate results in the low deviation setting.\n",
    "But in the high deviation setting, the loose nature of the paths in the blue posterior indicate that the robot has not discovered its true position by using importance sampling with the noisy sensor data. In the high deviation setting, more refined inference technique will be required.\n",
    "\n",
    "Let's approach the problem step by step instead of trying to infer the whole path at once.\n",
    "The technique we will use is called Sequential Importance Sampling or a\n",
    "[Particle Filter](https://en.wikipedia.org/wiki/Particle_filter). It works like this.\n",
    "\n",
    "When we designed the step model for the robot, we arranged things so that the model\n",
    "could be used with `scan`: the model takes a *state* and a *control input* to produce\n",
    "a new *state*. Imagine at some time step $t$ that we use importance sampling with this\n",
    "model at a pose $\\mathbf{z}_t$ and control input $\\mathbf{u}_t$, scored with respect to the\n",
    "sensor observations $\\mathbf{y}_t$ observed at that time. We will get a weighted collection\n",
    "of possible updated poses $\\mathbf{z}_t^N$ and weights $w^N$.\n",
    "\n",
    "The particle filter \"winnows\" this set by replacing it with $N$ weighted selections\n",
    "*with replacement* from this collection. This may select better candidates several\n",
    "times, and is likely to drop poor candidates from the collection. We can arrange to\n",
    "do this at each time step with a little preparation: we start by \"cloning\" our idea\n",
    "of the robot's initial position into an N vector and this becomes the initial particle\n",
    "collection. At each step, we generate an importance sample and winnow it.\n",
    "\n",
    "This can also be done as a scan. Our previous attempt used `scan` to produce candidate\n",
    "paths from start to end, and these were scored for importance using all of the sensor\n",
    "readings at once. The results were better than guesses, but not accurate, in the\n",
    "high deviation setting.\n",
    "\n",
    "The technique we will use here discards steps with low posterior density at each step, and\n",
    "reinforces steps with high posterior density, allowing better particles to proportionately\n",
    "search more of the probability space while discarding unpromising particles.\n",
    "\n",
    "The following class attempts to generatlize this idea:"
   ]
  },
  {
   "cell_type": "code",
   "execution_count": null,
   "id": "148",
   "metadata": {
    "lines_to_next_cell": 1
   },
   "outputs": [],
   "source": [
    "StateT = TypeVar(\"StateT\")\n",
    "ControlT = TypeVar(\"ControlT\")\n",
    "\n",
    "class SISwithRejuvenation(Generic[StateT, ControlT]):\n",
    "    \"\"\"\n",
    "    Given:\n",
    "     - a functional wrapper for the importance method of a generative function\n",
    "     - an initial state of type StateT, which should be a PyTree $z_0$\n",
    "     - a vector of control inputs, also a PyTree $u_i, of shape $(T, \\\\ldots)$\n",
    "     - an array of observations $y_i$, also of shape $(T, \\\\ldots)$\n",
    "    perform the inference technique known as Sequential Importance Sampling.\n",
    "\n",
    "    The signature of the GFI importance method is\n",
    "        key -> constraint -> args -> (trace, weight)\n",
    "    For importance sampling, this is vmapped over key to get\n",
    "        [keys] -> constraint -> args -> ([trace], [weight])\n",
    "    The functional wrapper's purpose is to maneuver the state and control\n",
    "    inputs into whatever argument shape the underlying model is expecting,\n",
    "    and to turn the observation at step $t$ into a choicemap asserting\n",
    "    that constraint.\n",
    "\n",
    "    You may also supply an SMCP3 rejuvenation function, whose signature is\n",
    "        key -> Trace[StateT] ->\n",
    "\n",
    "    After the object is constructed, SIS can be performed at any importance\n",
    "    depth with the `run` method, which will perform the following steps:\n",
    "\n",
    "     - inflate the initial value to a vector of size N of identical initial\n",
    "       values\n",
    "     - vmap over N keys generated from the supplied key\n",
    "     - each vmap cell will scan over the control inputs and observations\n",
    "\n",
    "    Between each step, categorical sampling with replacement is formed to\n",
    "    create a particle filter. Favorable importance draws are likely to\n",
    "    be replicated, and unfavorable ones discarded. The resampled vector of\n",
    "    states is sent the the next step, while the values drawn from the\n",
    "    importance sample and the indices chosen are emitted from the scan step,\n",
    "    where, at the end of the process, they will be available as matrices\n",
    "    of shape (N, T).\n",
    "    \"\"\"\n",
    "\n",
    "\n",
    "    def __init__(\n",
    "        self,\n",
    "        init: StateT,\n",
    "        controls: ControlT,\n",
    "        observations: Array,\n",
    "        importance: Callable[\n",
    "            [PRNGKey, StateT, ControlT, Array], tuple[genjax.Trace[StateT], float]\n",
    "        ],\n",
    "        rejuvenate: Callable[\n",
    "            [PRNGKey, genjax.Trace[StateT], Array, StateT, ControlT], tuple[genjax.Trace[StateT], float]\n",
    "        ] | None = None,\n",
    "    ):\n",
    "        self.importance = jax.jit(importance)\n",
    "        self.rejuvenate = jax.jit(rejuvenate) if rejuvenate else None\n",
    "        self.init = init\n",
    "        self.controls = controls\n",
    "        self.observations = observations\n",
    "\n",
    "\n",
    "    class Result(Generic[StateT]):\n",
    "        \"\"\"This object contains all of the information generated by the SIS scan,\n",
    "        and offers some convenient methods to reconstruct the paths explored\n",
    "        (`flood_fill`) or ultimately chosen (`backtrack`).\n",
    "        \"\"\"\n",
    "\n",
    "        def __init__(\n",
    "            self, end: StateT, samples: genjax.Trace[StateT], indices: IntArray, rejuvenated: genjax.Trace[StateT]\n",
    "        ):\n",
    "            self.end = end\n",
    "            self.samples = samples.get_retval()\n",
    "            self.indices = indices\n",
    "            self.rejuvenated = rejuvenated.get_retval()\n",
    "            self.N = len(end)\n",
    "            self.T = len(self.rejuvenated)\n",
    "\n",
    "        def flood_fill(self) -> list[list[StateT]]:\n",
    "            complete_paths = []\n",
    "            active_paths = self.N * [[]]\n",
    "            for i in range(self.T):\n",
    "                new_active_paths = self.N * [None]\n",
    "                for (j, count) in enumerate(jnp.bincount(self.indices[i], length=self.N)):\n",
    "                    if count == 0:\n",
    "                        complete_paths.append(active_paths[j] + [self.samples[i][j]])\n",
    "                    new_active_paths[j] = active_paths[self.indices[i][j]] + [self.rejuvenated[i][j]]\n",
    "                active_paths = new_active_paths\n",
    "            return complete_paths + active_paths\n",
    "\n",
    "        def backtrack(self) -> list[list[StateT]]:\n",
    "            paths = [[p] for p in self.end]\n",
    "            for i in reversed(range(self.T - 1)):\n",
    "                for j in range(self.N):\n",
    "                    paths[j].insert(0, self.rejuvenated[i][self.indices[i + 1][j]])\n",
    "            return paths\n",
    "\n",
    "\n",
    "    def run(self, key: PRNGKey, N: int) -> dict:\n",
    "        def step(state, update):\n",
    "            particles, log_weights = state\n",
    "            key, control, observation = update\n",
    "            ks = jax.random.split(key, (3, N))\n",
    "            samples, log_weight_increments = jax.vmap(self.importance, in_axes=(0, 0, None, None))(\n",
    "                ks[0], particles, control, observation\n",
    "            )\n",
    "            indices = jax.vmap(genjax.categorical.propose, in_axes=(0, None))(\n",
    "                ks[1], (log_weights + log_weight_increments,)\n",
    "            )[2]\n",
    "            (resamples, antecedents) = jax.tree.map(lambda v: v[indices], (samples, particles))\n",
    "            if self.rejuvenate:\n",
    "                rejuvenated, new_log_weights = jax.vmap(self.rejuvenate, in_axes=(0, 0, 0, None, None))(\n",
    "                    ks[2],\n",
    "                    resamples,\n",
    "                    antecedents,\n",
    "                    control,\n",
    "                    observation\n",
    "                )\n",
    "            else:\n",
    "                rejuvenated, new_log_weights = resamples, jnp.zeros(log_weights.shape)\n",
    "            return (rejuvenated.get_retval(), new_log_weights), (samples, indices, rejuvenated)\n",
    "\n",
    "        init_array = jax.tree.map(\n",
    "            lambda a: jnp.broadcast_to(a, (N,) + a.shape), self.init\n",
    "        )\n",
    "        (end, _), (samples, indices, rejuvenated) = jax.lax.scan(\n",
    "            step,\n",
    "            (init_array, jnp.zeros(N)),\n",
    "            (\n",
    "                jax.random.split(key, len(self.controls)),\n",
    "                self.controls,\n",
    "                self.observations,\n",
    "            ),\n",
    "        )\n",
    "        return SISwithRejuvenation.Result(end, samples, indices, rejuvenated)"
   ]
  },
  {
   "cell_type": "code",
   "execution_count": null,
   "id": "149",
   "metadata": {},
   "outputs": [],
   "source": [
    "def localization_sis(motion_settings, sensor_noise, observations):\n",
    "    return SISwithRejuvenation(\n",
    "        robot_inputs[\"start\"],\n",
    "        robot_inputs[\"controls\"],\n",
    "        observations,\n",
    "        lambda key, pose, control, observation: full_model_kernel.importance(\n",
    "            key,\n",
    "            C[\"sensor\", \"distance\"].set(observation),\n",
    "            (motion_settings, sensor_noise, pose, control),\n",
    "        ),\n",
    "    )"
   ]
  },
  {
   "cell_type": "markdown",
   "id": "150",
   "metadata": {},
   "source": [
    "Below, the paths that died in the sequential resampling are shown in red."
   ]
  },
  {
   "cell_type": "code",
   "execution_count": null,
   "id": "151",
   "metadata": {
    "lines_to_next_cell": 0
   },
   "outputs": [],
   "source": [
    "key, k1, k2 = jax.random.split(key, 3)\n",
    "\n",
    "N_particles = 20\n",
    "sis_result_low = localization_sis(\n",
    "    model_motion_settings, model_sensor_noise, observations_low_deviation\n",
    ").run(k1, N_particles)\n",
    "sis_result_high = localization_sis(\n",
    "    model_motion_settings, model_sensor_noise, observations_high_deviation\n",
    ").run(k2, N_particles)\n",
    "\n",
    "plot_inference_result(\n",
    "    (\"SIS on low motion-deviation data\",),\n",
    "    \"sequential importance resamples\",\n",
    "    [pytree_transpose(path) for path in sis_result_low.backtrack()],\n",
    "    path_low_deviation,\n",
    "    history_paths=[pytree_transpose(path) for path in sis_result_low.flood_fill()]\n",
    ") & plot_inference_result(\n",
    "    (\"SIS on high motion-deviation data\",),\n",
    "    \"sequential importance resamples\",\n",
    "    [pytree_transpose(path) for path in sis_result_high.backtrack()],\n",
    "    path_high_deviation,\n",
    "    history_paths=[pytree_transpose(path) for path in sis_result_high.flood_fill()]\n",
    ")"
   ]
  },
  {
   "cell_type": "markdown",
   "id": "152",
   "metadata": {},
   "source": [
    "As already noted, after winnowing poor quality particles and replacing them with copies of the better ones, particle diversity suffers.  The technique of *rejuvenation* is to perturb the results of resampling to restore this diversity.  At the same time, it can perform operations that improve the sample quality.  In this case, we search a small grid of points near the most recent step for improvement in the score.\n",
    "\n",
    "While we perturb the particles, we update the weight using the *SMCP3* rule."
   ]
  },
  {
   "cell_type": "code",
   "execution_count": null,
   "id": "153",
   "metadata": {},
   "outputs": [],
   "source": [
    "# This is the general SMCP3 algorithm in the case where there is no Jacobian term.\n",
    "def run_SMCP3_step(fwd_proposal, bwd_proposal, key, sample, proposal_args):\n",
    "    k1, k2 = jax.random.split(key, 2)\n",
    "\n",
    "    _, fwd_proposal_weight, (fwd_update, bwd_choices) = fwd_proposal.propose(k1, (sample, proposal_args))\n",
    "\n",
    "    new_sample, model_weight_diff, _, _ = sample.update(k2, fwd_update)\n",
    "\n",
    "    bwd_proposal_weight, _ = bwd_proposal.assess(bwd_choices, (new_sample, proposal_args))\n",
    "\n",
    "    new_log_weight = model_weight_diff + bwd_proposal_weight - fwd_proposal_weight\n",
    "    return new_sample, new_log_weight\n",
    "\n",
    "# Forward proposal searches a nearby grid around the sample,\n",
    "# and returns an importance-resampled member.\n",
    "# The joint density (= the density from the full model) serves as\n",
    "# the unnormalized posterior density over steps.\n",
    "@genjax.gen\n",
    "def grid_fwd_proposal(sample, args):\n",
    "    base_grid, observation, full_model_args = args\n",
    "    observation_cm = C[\"sensor\", \"distance\"].set(observation)\n",
    "\n",
    "    log_weights = jax.vmap(\n",
    "        lambda p, hd:\n",
    "            full_model_kernel.assess(\n",
    "                observation_cm\n",
    "                | C[\"pose\", \"p\"].set(p + sample.get_retval().p)\n",
    "                | C[\"pose\", \"hd\"].set(hd + sample.get_retval().hd),\n",
    "                full_model_args\n",
    "            )[0]\n",
    "    )(*base_grid)\n",
    "    fwd_index = genjax.categorical(log_weights) @ \"fwd_index\"\n",
    "\n",
    "    return (\n",
    "        (\n",
    "            C[\"pose\", \"p\"].set(base_grid[0][fwd_index] + sample.get_retval().p)\n",
    "            | C[\"pose\", \"hd\"].set(base_grid[1][fwd_index] + sample.get_retval().hd)\n",
    "        ),\n",
    "        C[\"bwd_index\"].set(len(log_weights) - 1 - fwd_index)\n",
    "    )\n",
    "\n",
    "# Backwards proposal simply guesses according to the prior over steps, nothing fancier.\n",
    "@genjax.gen\n",
    "def grid_bwd_proposal(new_sample, args):\n",
    "    base_grid, _, full_model_args = args\n",
    "    step_model_args = (full_model_args[0], full_model_args[2], full_model_args[3])\n",
    "\n",
    "    log_weights = jax.vmap(\n",
    "        lambda p, hd:\n",
    "            step_model.assess(\n",
    "                C[\"p\"].set(p + new_sample.get_retval().p)\n",
    "                | C[\"hd\"].set(hd + new_sample.get_retval().hd),\n",
    "                step_model_args\n",
    "            )[0]\n",
    "    )(*base_grid)\n",
    "\n",
    "    _ = genjax.categorical(log_weights) @ \"bwd_index\"\n",
    "    # Since the backward proposal is only used for assessing the above choice,\n",
    "    # no further computation is necessary."
   ]
  },
  {
   "cell_type": "code",
   "execution_count": null,
   "id": "154",
   "metadata": {},
   "outputs": [],
   "source": [
    "def localization_sis_plus_grid_rejuv(motion_settings, sensor_noise, M_grid, N_grid, observations):\n",
    "    base_grid = make_poses_grid_array(\n",
    "        jnp.array([-M_grid / 2, M_grid / 2]).T,\n",
    "        N_grid\n",
    "    )\n",
    "    return SISwithRejuvenation(\n",
    "        robot_inputs[\"start\"],\n",
    "        robot_inputs[\"controls\"],\n",
    "        observations,\n",
    "        importance=lambda key, pose, control, observation: full_model_kernel.importance(\n",
    "            key,\n",
    "            C[\"sensor\", \"distance\"].set(observation),\n",
    "            (motion_settings, sensor_noise, pose, control),\n",
    "        ),\n",
    "        rejuvenate=lambda key, sample, pose, control, observation: run_SMCP3_step(\n",
    "            grid_fwd_proposal,\n",
    "            grid_bwd_proposal,\n",
    "            key,\n",
    "            sample,\n",
    "            (base_grid, observation, (motion_settings, sensor_noise, pose, control))\n",
    "        ),\n",
    "    )"
   ]
  },
  {
   "cell_type": "markdown",
   "id": "155",
   "metadata": {},
   "source": [
    "The following plots compare the performance of this local grid search rejuvenation scheme (first) versus vanilla sequential importance sampling (second)."
   ]
  },
  {
   "cell_type": "code",
   "execution_count": null,
   "id": "156",
   "metadata": {},
   "outputs": [],
   "source": [
    "N_particles = 20\n",
    "M_grid = jnp.array([1.0, 1.0, (3 / 10) * degrees])\n",
    "N_grid = jnp.array([15, 15, 15])\n",
    "\n",
    "key, k1, k2 = jax.random.split(key, 3)\n",
    "sis_result = localization_sis(\n",
    "    model_motion_settings, model_sensor_noise, observations_high_deviation\n",
    ").run(k1, N_particles)\n",
    "smcp3_result = localization_sis_plus_grid_rejuv(\n",
    "    model_motion_settings, model_sensor_noise, M_grid, N_grid, observations_high_deviation\n",
    ").run(k2, N_particles)\n",
    "\n",
    "plot_inference_result(\n",
    "    (\"SIS without rejuvenation\", \"high motion-deviation data\"),\n",
    "    \"samples\",\n",
    "    [pytree_transpose(path) for path in sis_result.backtrack()],\n",
    "    path_high_deviation,\n",
    "    history_paths=[pytree_transpose(path) for path in sis_result.flood_fill()]\n",
    ") & plot_inference_result(\n",
    "    (\"SIS with SMCP3 grid rejuvenation\", \"high motion-deviation data\"),\n",
    "    \"samples\",\n",
    "    [pytree_transpose(path) for path in smcp3_result.backtrack()],\n",
    "    path_high_deviation,\n",
    "    history_paths=[pytree_transpose(path) for path in smcp3_result.flood_fill()]\n",
    ")"
   ]
  }
 ],
 "metadata": {
  "jupytext": {
   "cell_metadata_filter": "title,-all",
   "custom_cell_magics": "kql",
   "encoding": "# -*- coding: utf-8 -*-"
  },
  "kernelspec": {
   "display_name": "gpu",
   "language": "python",
   "name": "python3"
  },
  "language_info": {
   "codemirror_mode": {
    "name": "ipython",
    "version": 3
   },
   "file_extension": ".py",
   "mimetype": "text/x-python",
   "name": "python",
   "nbconvert_exporter": "python",
   "pygments_lexer": "ipython3",
   "version": "3.12.9"
  }
 },
 "nbformat": 4,
 "nbformat_minor": 5
}
